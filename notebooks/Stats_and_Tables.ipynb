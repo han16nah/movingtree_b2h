{
 "cells": [
  {
   "cell_type": "markdown",
   "id": "f0bf00d9",
   "metadata": {},
   "source": [
    "# Notebook for creating the result tables and stats for my master thesis\n",
    "***\n",
    "Hannah Weiser"
   ]
  },
  {
   "cell_type": "markdown",
   "id": "a84d755f",
   "metadata": {},
   "source": [
    "## Imports"
   ]
  },
  {
   "cell_type": "code",
   "execution_count": 2,
   "id": "09f36144",
   "metadata": {},
   "outputs": [],
   "source": [
    "from pathlib import Path\n",
    "import pandas as pd\n",
    "import numpy as np\n",
    "from scipy.stats import ttest_rel"
   ]
  },
  {
   "cell_type": "markdown",
   "id": "cc714ac8",
   "metadata": {},
   "source": [
    "## Input paths"
   ]
  },
  {
   "cell_type": "code",
   "execution_count": 3,
   "id": "ba178bed",
   "metadata": {},
   "outputs": [],
   "source": [
    "metric_folder = \"H:/movingtree_b2h/data/metrics\"\n",
    "\n",
    "tls_height_metrics = \"tls_height_metrics.pkl\"\n",
    "tls_height_metrics_mls = \"tls_height_metrics_mls.pkl\"\n",
    "tls_geometric_feats = \"tls_geometric_feats.pkl\"\n",
    "tls_geometric_feats_mls = \"tls_geometric_feats_mls.pkl\"\n",
    "tls_voxel_metrics = \"tls_voxel_metrics.pkl\"\n",
    "tls_voxel_metrics_mls = \"tls_voxel_metrics_mls.pkl\"\n",
    "tls_la_metrics = \"tls_lai_gap_frac.pkl\"\n",
    "tls_la_metrics_mls = \"tls_lai_gap_frac_mls.pkl\"\n",
    "tls_la_tri = \"leaf_areas_tri.txt\"\n",
    "tls_la_tri_mls = \"leaf_areas_tri_mls.txt\"\n",
    "la_reference = \"leaf_area_reference.txt\"\n",
    "uls_la_amapvox = \"la_amapvox.txt\"\n",
    "tls_la_amapvox = \"la_amapvox_tls.txt\"\n",
    "\n",
    "uls_height_metrics = \"uls_height_metrics.pkl\"\n",
    "uls_geometric_feats = \"uls_geometric_feats.pkl\"\n",
    "uls_voxel_metrics = \"uls_voxel_metrics.pkl\""
   ]
  },
  {
   "cell_type": "markdown",
   "id": "432d01d8",
   "metadata": {},
   "source": [
    "## Height metrics"
   ]
  },
  {
   "cell_type": "markdown",
   "id": "2e87230e",
   "metadata": {},
   "source": [
    "### TLS"
   ]
  },
  {
   "cell_type": "code",
   "execution_count": 4,
   "id": "3b1af7ef",
   "metadata": {},
   "outputs": [],
   "source": [
    "# TLS\n",
    "hm_df = pd.read_pickle(Path(metric_folder) / tls_height_metrics)\n",
    "hm_mls_df = pd.read_pickle(Path(metric_folder) / tls_height_metrics_mls)\n",
    "hm_means_by_scenario = hm_df.groupby([\"scenario\"]).agg(\"mean\")\n",
    "hm_mls_means_by_scenario = hm_mls_df.groupby([\"scenario\"]).agg(\"mean\")"
   ]
  },
  {
   "cell_type": "markdown",
   "id": "84b93442",
   "metadata": {},
   "source": [
    "#### Tree characteristics"
   ]
  },
  {
   "cell_type": "code",
   "execution_count": 5,
   "id": "8ef68006",
   "metadata": {},
   "outputs": [
    {
     "name": "stdout",
     "output_type": "stream",
     "text": [
      "Smallest tree: 2.47 m\n",
      "Tallest tree: 2.98 m\n"
     ]
    }
   ],
   "source": [
    "print(f'Smallest tree: {hm_df.loc[\"static\"][\"Max\"].min():.2f} m')\n",
    "print(f'Tallest tree: {hm_df.loc[\"static\"][\"Max\"].max():.2f} m')"
   ]
  },
  {
   "cell_type": "markdown",
   "id": "da6e6259",
   "metadata": {},
   "source": [
    "#### Mean and std. of height"
   ]
  },
  {
   "cell_type": "code",
   "execution_count": 6,
   "id": "4fff6ef7",
   "metadata": {},
   "outputs": [],
   "source": [
    "hm_df = pd.read_pickle(Path(metric_folder) / tls_height_metrics)\n",
    "hm_mls_df = pd.read_pickle(Path(metric_folder) / tls_height_metrics_mls)\n",
    "hm_means_by_scenario = hm_df.groupby([\"scenario\"]).agg(\"mean\")\n",
    "hm_mls_means_by_scenario = hm_mls_df.groupby([\"scenario\"]).agg(\"mean\")"
   ]
  },
  {
   "cell_type": "code",
   "execution_count": 7,
   "id": "543341ad",
   "metadata": {},
   "outputs": [
    {
     "name": "stdout",
     "output_type": "stream",
     "text": [
      "\\begin{tabular}{lrr}\n",
      " & Mean & Std \\\\\n",
      "scenario &  &  \\\\\n",
      "a & 1.396 & 0.601 \\\\\n",
      "b & 1.397 & 0.599 \\\\\n",
      "c & 1.406 & 0.595 \\\\\n",
      "static & 1.391 & 0.603 \\\\\n",
      "\\end{tabular}\n",
      "\n",
      "\\begin{tabular}{lrr}\n",
      " & Mean & Std \\\\\n",
      "scenario &  &  \\\\\n",
      "a & 1.395 & 0.602 \\\\\n",
      "b & 1.396 & 0.601 \\\\\n",
      "c & 1.404 & 0.598 \\\\\n",
      "static & 1.393 & 0.603 \\\\\n",
      "\\end{tabular}\n",
      "\n"
     ]
    }
   ],
   "source": [
    "print(hm_means_by_scenario[[\"Mean\", \"Std\"]].style.format(precision=3).to_latex())\n",
    "print(hm_mls_means_by_scenario[[\"Mean\", \"Std\"]].style.format(precision=3).to_latex())"
   ]
  },
  {
   "cell_type": "markdown",
   "id": "5a24fc5a",
   "metadata": {},
   "source": [
    "#### Number of points"
   ]
  },
  {
   "cell_type": "code",
   "execution_count": 8,
   "id": "ed55dcf4",
   "metadata": {},
   "outputs": [
    {
     "name": "stdout",
     "output_type": "stream",
     "text": [
      "BEFORE FILTERING\n",
      "Minimum number of points per scenario\n"
     ]
    },
    {
     "data": {
      "text/html": [
       "<div>\n",
       "<style scoped>\n",
       "    .dataframe tbody tr th:only-of-type {\n",
       "        vertical-align: middle;\n",
       "    }\n",
       "\n",
       "    .dataframe tbody tr th {\n",
       "        vertical-align: top;\n",
       "    }\n",
       "\n",
       "    .dataframe thead th {\n",
       "        text-align: right;\n",
       "    }\n",
       "</style>\n",
       "<table border=\"1\" class=\"dataframe\">\n",
       "  <thead>\n",
       "    <tr style=\"text-align: right;\">\n",
       "      <th></th>\n",
       "      <th>no_points</th>\n",
       "      <th>no_wood_points</th>\n",
       "      <th>no_leaf_points</th>\n",
       "    </tr>\n",
       "    <tr>\n",
       "      <th>scenario</th>\n",
       "      <th></th>\n",
       "      <th></th>\n",
       "      <th></th>\n",
       "    </tr>\n",
       "  </thead>\n",
       "  <tbody>\n",
       "    <tr>\n",
       "      <th>a</th>\n",
       "      <td>425814</td>\n",
       "      <td>88131</td>\n",
       "      <td>230463</td>\n",
       "    </tr>\n",
       "    <tr>\n",
       "      <th>b</th>\n",
       "      <td>416969</td>\n",
       "      <td>87986</td>\n",
       "      <td>222176</td>\n",
       "    </tr>\n",
       "    <tr>\n",
       "      <th>c</th>\n",
       "      <td>438866</td>\n",
       "      <td>84763</td>\n",
       "      <td>245482</td>\n",
       "    </tr>\n",
       "    <tr>\n",
       "      <th>static</th>\n",
       "      <td>412852</td>\n",
       "      <td>89115</td>\n",
       "      <td>217027</td>\n",
       "    </tr>\n",
       "  </tbody>\n",
       "</table>\n",
       "</div>"
      ],
      "text/plain": [
       "          no_points  no_wood_points  no_leaf_points\n",
       "scenario                                           \n",
       "a            425814           88131          230463\n",
       "b            416969           87986          222176\n",
       "c            438866           84763          245482\n",
       "static       412852           89115          217027"
      ]
     },
     "metadata": {},
     "output_type": "display_data"
    },
    {
     "name": "stdout",
     "output_type": "stream",
     "text": [
      "Maximum number of points per scenario\n"
     ]
    },
    {
     "data": {
      "text/html": [
       "<div>\n",
       "<style scoped>\n",
       "    .dataframe tbody tr th:only-of-type {\n",
       "        vertical-align: middle;\n",
       "    }\n",
       "\n",
       "    .dataframe tbody tr th {\n",
       "        vertical-align: top;\n",
       "    }\n",
       "\n",
       "    .dataframe thead th {\n",
       "        text-align: right;\n",
       "    }\n",
       "</style>\n",
       "<table border=\"1\" class=\"dataframe\">\n",
       "  <thead>\n",
       "    <tr style=\"text-align: right;\">\n",
       "      <th></th>\n",
       "      <th>no_points</th>\n",
       "      <th>no_wood_points</th>\n",
       "      <th>no_leaf_points</th>\n",
       "    </tr>\n",
       "    <tr>\n",
       "      <th>scenario</th>\n",
       "      <th></th>\n",
       "      <th></th>\n",
       "      <th></th>\n",
       "    </tr>\n",
       "  </thead>\n",
       "  <tbody>\n",
       "    <tr>\n",
       "      <th>a</th>\n",
       "      <td>990723</td>\n",
       "      <td>231288</td>\n",
       "      <td>775256</td>\n",
       "    </tr>\n",
       "    <tr>\n",
       "      <th>b</th>\n",
       "      <td>988796</td>\n",
       "      <td>229396</td>\n",
       "      <td>773277</td>\n",
       "    </tr>\n",
       "    <tr>\n",
       "      <th>c</th>\n",
       "      <td>983249</td>\n",
       "      <td>226006</td>\n",
       "      <td>767855</td>\n",
       "    </tr>\n",
       "    <tr>\n",
       "      <th>static</th>\n",
       "      <td>991665</td>\n",
       "      <td>232615</td>\n",
       "      <td>776790</td>\n",
       "    </tr>\n",
       "  </tbody>\n",
       "</table>\n",
       "</div>"
      ],
      "text/plain": [
       "          no_points  no_wood_points  no_leaf_points\n",
       "scenario                                           \n",
       "a            990723          231288          775256\n",
       "b            988796          229396          773277\n",
       "c            983249          226006          767855\n",
       "static       991665          232615          776790"
      ]
     },
     "metadata": {},
     "output_type": "display_data"
    },
    {
     "name": "stdout",
     "output_type": "stream",
     "text": [
      "Mean number of points per scenario\n"
     ]
    },
    {
     "data": {
      "text/html": [
       "<div>\n",
       "<style scoped>\n",
       "    .dataframe tbody tr th:only-of-type {\n",
       "        vertical-align: middle;\n",
       "    }\n",
       "\n",
       "    .dataframe tbody tr th {\n",
       "        vertical-align: top;\n",
       "    }\n",
       "\n",
       "    .dataframe thead th {\n",
       "        text-align: right;\n",
       "    }\n",
       "</style>\n",
       "<table border=\"1\" class=\"dataframe\">\n",
       "  <thead>\n",
       "    <tr style=\"text-align: right;\">\n",
       "      <th></th>\n",
       "      <th>no_points</th>\n",
       "      <th>no_wood_points</th>\n",
       "      <th>no_leaf_points</th>\n",
       "    </tr>\n",
       "    <tr>\n",
       "      <th>scenario</th>\n",
       "      <th></th>\n",
       "      <th></th>\n",
       "      <th></th>\n",
       "    </tr>\n",
       "  </thead>\n",
       "  <tbody>\n",
       "    <tr>\n",
       "      <th>a</th>\n",
       "      <td>555701.2</td>\n",
       "      <td>169002.0</td>\n",
       "      <td>386699.2</td>\n",
       "    </tr>\n",
       "    <tr>\n",
       "      <th>b</th>\n",
       "      <td>560094.5</td>\n",
       "      <td>168580.6</td>\n",
       "      <td>391513.9</td>\n",
       "    </tr>\n",
       "    <tr>\n",
       "      <th>c</th>\n",
       "      <td>587061.5</td>\n",
       "      <td>166314.4</td>\n",
       "      <td>420747.1</td>\n",
       "    </tr>\n",
       "    <tr>\n",
       "      <th>static</th>\n",
       "      <td>543297.4</td>\n",
       "      <td>169804.1</td>\n",
       "      <td>373493.3</td>\n",
       "    </tr>\n",
       "  </tbody>\n",
       "</table>\n",
       "</div>"
      ],
      "text/plain": [
       "          no_points  no_wood_points  no_leaf_points\n",
       "scenario                                           \n",
       "a          555701.2        169002.0        386699.2\n",
       "b          560094.5        168580.6        391513.9\n",
       "c          587061.5        166314.4        420747.1\n",
       "static     543297.4        169804.1        373493.3"
      ]
     },
     "metadata": {},
     "output_type": "display_data"
    },
    {
     "name": "stdout",
     "output_type": "stream",
     "text": [
      "Differences between static scenario and scenario c\n"
     ]
    },
    {
     "data": {
      "text/plain": [
       "no_points         43764.1333\n",
       "no_wood_points    -3489.6667\n",
       "no_leaf_points    47253.8000\n",
       "Mean                  0.0151\n",
       "Max                  -0.0009\n",
       "Std                  -0.0073\n",
       "D1                    0.0156\n",
       "D2                    0.0138\n",
       "D3                    0.0196\n",
       "D4                    0.0236\n",
       "D5                    0.0221\n",
       "D6                    0.0157\n",
       "D7                    0.0148\n",
       "D8                    0.0068\n",
       "D9                   -0.0047\n",
       "dtype: float64"
      ]
     },
     "metadata": {},
     "output_type": "display_data"
    }
   ],
   "source": [
    "print(\"BEFORE FILTERING\")\n",
    "print(\"Minimum number of points per scenario\")\n",
    "display(hm_df.groupby([\"scenario\"])[[\"no_points\", \"no_wood_points\", \"no_leaf_points\"]].agg(\"min\"))\n",
    "print(\"Maximum number of points per scenario\")\n",
    "display(hm_df.groupby([\"scenario\"])[[\"no_points\", \"no_wood_points\", \"no_leaf_points\"]].agg(\"max\"))\n",
    "print(\"Mean number of points per scenario\")\n",
    "display(hm_df.groupby([\"scenario\"])[[\"no_points\", \"no_wood_points\", \"no_leaf_points\"]].agg(\"mean\").round(decimals=1))\n",
    "print(\"Differences between static scenario and scenario c\")\n",
    "display((hm_df.groupby(\"scenario\").mean().loc[\"c\"] \n",
    "        - hm_df.groupby(\"scenario\").mean().loc[\"static\"]).round(decimals=4))"
   ]
  },
  {
   "cell_type": "code",
   "execution_count": 9,
   "id": "476da367",
   "metadata": {},
   "outputs": [
    {
     "name": "stdout",
     "output_type": "stream",
     "text": [
      "Percentage of leaf points in each scenario\n"
     ]
    },
    {
     "data": {
      "text/plain": [
       "scenario\n",
       "a         0.695876\n",
       "b         0.699014\n",
       "c         0.716700\n",
       "static    0.687457\n",
       "dtype: float64"
      ]
     },
     "execution_count": 9,
     "metadata": {},
     "output_type": "execute_result"
    }
   ],
   "source": [
    "print(\"Percentage of leaf points in each scenario\")\n",
    "hm_df.groupby(\"scenario\").mean()[\"no_leaf_points\"] / hm_df.groupby(\"scenario\").mean()[\"no_points\"]"
   ]
  },
  {
   "cell_type": "code",
   "execution_count": 10,
   "id": "1cdd4cf6",
   "metadata": {},
   "outputs": [
    {
     "name": "stdout",
     "output_type": "stream",
     "text": [
      "AFTER FILTERING\n",
      "Minimum number of points per scenario\n"
     ]
    },
    {
     "data": {
      "text/html": [
       "<div>\n",
       "<style scoped>\n",
       "    .dataframe tbody tr th:only-of-type {\n",
       "        vertical-align: middle;\n",
       "    }\n",
       "\n",
       "    .dataframe tbody tr th {\n",
       "        vertical-align: top;\n",
       "    }\n",
       "\n",
       "    .dataframe thead th {\n",
       "        text-align: right;\n",
       "    }\n",
       "</style>\n",
       "<table border=\"1\" class=\"dataframe\">\n",
       "  <thead>\n",
       "    <tr style=\"text-align: right;\">\n",
       "      <th></th>\n",
       "      <th>no_points</th>\n",
       "      <th>no_wood_points</th>\n",
       "      <th>no_leaf_points</th>\n",
       "    </tr>\n",
       "    <tr>\n",
       "      <th>scenario</th>\n",
       "      <th></th>\n",
       "      <th></th>\n",
       "      <th></th>\n",
       "    </tr>\n",
       "  </thead>\n",
       "  <tbody>\n",
       "    <tr>\n",
       "      <th>a</th>\n",
       "      <td>400533</td>\n",
       "      <td>81930</td>\n",
       "      <td>215229</td>\n",
       "    </tr>\n",
       "    <tr>\n",
       "      <th>b</th>\n",
       "      <td>391478</td>\n",
       "      <td>82896</td>\n",
       "      <td>205845</td>\n",
       "    </tr>\n",
       "    <tr>\n",
       "      <th>c</th>\n",
       "      <td>410283</td>\n",
       "      <td>80722</td>\n",
       "      <td>224742</td>\n",
       "    </tr>\n",
       "    <tr>\n",
       "      <th>static</th>\n",
       "      <td>390625</td>\n",
       "      <td>80892</td>\n",
       "      <td>207290</td>\n",
       "    </tr>\n",
       "  </tbody>\n",
       "</table>\n",
       "</div>"
      ],
      "text/plain": [
       "          no_points  no_wood_points  no_leaf_points\n",
       "scenario                                           \n",
       "a            400533           81930          215229\n",
       "b            391478           82896          205845\n",
       "c            410283           80722          224742\n",
       "static       390625           80892          207290"
      ]
     },
     "metadata": {},
     "output_type": "display_data"
    },
    {
     "name": "stdout",
     "output_type": "stream",
     "text": [
      "Maximum number of points per scenario\n"
     ]
    },
    {
     "data": {
      "text/html": [
       "<div>\n",
       "<style scoped>\n",
       "    .dataframe tbody tr th:only-of-type {\n",
       "        vertical-align: middle;\n",
       "    }\n",
       "\n",
       "    .dataframe tbody tr th {\n",
       "        vertical-align: top;\n",
       "    }\n",
       "\n",
       "    .dataframe thead th {\n",
       "        text-align: right;\n",
       "    }\n",
       "</style>\n",
       "<table border=\"1\" class=\"dataframe\">\n",
       "  <thead>\n",
       "    <tr style=\"text-align: right;\">\n",
       "      <th></th>\n",
       "      <th>no_points</th>\n",
       "      <th>no_wood_points</th>\n",
       "      <th>no_leaf_points</th>\n",
       "    </tr>\n",
       "    <tr>\n",
       "      <th>scenario</th>\n",
       "      <th></th>\n",
       "      <th></th>\n",
       "      <th></th>\n",
       "    </tr>\n",
       "  </thead>\n",
       "  <tbody>\n",
       "    <tr>\n",
       "      <th>a</th>\n",
       "      <td>944840</td>\n",
       "      <td>219410</td>\n",
       "      <td>741045</td>\n",
       "    </tr>\n",
       "    <tr>\n",
       "      <th>b</th>\n",
       "      <td>940737</td>\n",
       "      <td>219249</td>\n",
       "      <td>735905</td>\n",
       "    </tr>\n",
       "    <tr>\n",
       "      <th>c</th>\n",
       "      <td>930883</td>\n",
       "      <td>217409</td>\n",
       "      <td>724753</td>\n",
       "    </tr>\n",
       "    <tr>\n",
       "      <th>static</th>\n",
       "      <td>948511</td>\n",
       "      <td>219018</td>\n",
       "      <td>746618</td>\n",
       "    </tr>\n",
       "  </tbody>\n",
       "</table>\n",
       "</div>"
      ],
      "text/plain": [
       "          no_points  no_wood_points  no_leaf_points\n",
       "scenario                                           \n",
       "a            944840          219410          741045\n",
       "b            940737          219249          735905\n",
       "c            930883          217409          724753\n",
       "static       948511          219018          746618"
      ]
     },
     "metadata": {},
     "output_type": "display_data"
    },
    {
     "name": "stdout",
     "output_type": "stream",
     "text": [
      "Mean number of points per scenario\n"
     ]
    },
    {
     "data": {
      "text/html": [
       "<div>\n",
       "<style scoped>\n",
       "    .dataframe tbody tr th:only-of-type {\n",
       "        vertical-align: middle;\n",
       "    }\n",
       "\n",
       "    .dataframe tbody tr th {\n",
       "        vertical-align: top;\n",
       "    }\n",
       "\n",
       "    .dataframe thead th {\n",
       "        text-align: right;\n",
       "    }\n",
       "</style>\n",
       "<table border=\"1\" class=\"dataframe\">\n",
       "  <thead>\n",
       "    <tr style=\"text-align: right;\">\n",
       "      <th></th>\n",
       "      <th>no_points</th>\n",
       "      <th>no_wood_points</th>\n",
       "      <th>no_leaf_points</th>\n",
       "    </tr>\n",
       "    <tr>\n",
       "      <th>scenario</th>\n",
       "      <th></th>\n",
       "      <th></th>\n",
       "      <th></th>\n",
       "    </tr>\n",
       "  </thead>\n",
       "  <tbody>\n",
       "    <tr>\n",
       "      <th>a</th>\n",
       "      <td>521736.3</td>\n",
       "      <td>159831.8</td>\n",
       "      <td>361904.5</td>\n",
       "    </tr>\n",
       "    <tr>\n",
       "      <th>b</th>\n",
       "      <td>524651.5</td>\n",
       "      <td>160604.3</td>\n",
       "      <td>364047.1</td>\n",
       "    </tr>\n",
       "    <tr>\n",
       "      <th>c</th>\n",
       "      <td>546797.9</td>\n",
       "      <td>159591.3</td>\n",
       "      <td>387206.6</td>\n",
       "    </tr>\n",
       "    <tr>\n",
       "      <th>static</th>\n",
       "      <td>514233.0</td>\n",
       "      <td>158735.9</td>\n",
       "      <td>355497.1</td>\n",
       "    </tr>\n",
       "  </tbody>\n",
       "</table>\n",
       "</div>"
      ],
      "text/plain": [
       "          no_points  no_wood_points  no_leaf_points\n",
       "scenario                                           \n",
       "a          521736.3        159831.8        361904.5\n",
       "b          524651.5        160604.3        364047.1\n",
       "c          546797.9        159591.3        387206.6\n",
       "static     514233.0        158735.9        355497.1"
      ]
     },
     "metadata": {},
     "output_type": "display_data"
    }
   ],
   "source": [
    "print(\"AFTER FILTERING\")\n",
    "print(\"Minimum number of points per scenario\")\n",
    "display(hm_mls_df.groupby([\"scenario\"])[[\"no_points\", \"no_wood_points\", \"no_leaf_points\"]].agg(\"min\"))\n",
    "print(\"Maximum number of points per scenario\")\n",
    "display(hm_mls_df.groupby([\"scenario\"])[[\"no_points\", \"no_wood_points\", \"no_leaf_points\"]].agg(\"max\"))\n",
    "print(\"Mean number of points per scenario\")\n",
    "display(hm_mls_df.groupby([\"scenario\"])[[\"no_points\", \"no_wood_points\", \"no_leaf_points\"]].agg(\"mean\").round(decimals=1))"
   ]
  },
  {
   "cell_type": "code",
   "execution_count": 11,
   "id": "20e828b6",
   "metadata": {},
   "outputs": [
    {
     "name": "stdout",
     "output_type": "stream",
     "text": [
      "Reduction of points by filtering\n"
     ]
    },
    {
     "data": {
      "text/html": [
       "<div>\n",
       "<style scoped>\n",
       "    .dataframe tbody tr th:only-of-type {\n",
       "        vertical-align: middle;\n",
       "    }\n",
       "\n",
       "    .dataframe tbody tr th {\n",
       "        vertical-align: top;\n",
       "    }\n",
       "\n",
       "    .dataframe thead th {\n",
       "        text-align: right;\n",
       "    }\n",
       "</style>\n",
       "<table border=\"1\" class=\"dataframe\">\n",
       "  <thead>\n",
       "    <tr style=\"text-align: right;\">\n",
       "      <th></th>\n",
       "      <th>no_points</th>\n",
       "      <th>no_wood_points</th>\n",
       "      <th>no_leaf_points</th>\n",
       "    </tr>\n",
       "    <tr>\n",
       "      <th>scenario</th>\n",
       "      <th></th>\n",
       "      <th></th>\n",
       "      <th></th>\n",
       "    </tr>\n",
       "  </thead>\n",
       "  <tbody>\n",
       "    <tr>\n",
       "      <th>a</th>\n",
       "      <td>-33964.866667</td>\n",
       "      <td>-9170.200000</td>\n",
       "      <td>-24794.666667</td>\n",
       "    </tr>\n",
       "    <tr>\n",
       "      <th>b</th>\n",
       "      <td>-35443.000000</td>\n",
       "      <td>-7976.266667</td>\n",
       "      <td>-27466.733333</td>\n",
       "    </tr>\n",
       "    <tr>\n",
       "      <th>c</th>\n",
       "      <td>-40263.666667</td>\n",
       "      <td>-6723.133333</td>\n",
       "      <td>-33540.533333</td>\n",
       "    </tr>\n",
       "    <tr>\n",
       "      <th>static</th>\n",
       "      <td>-29064.400000</td>\n",
       "      <td>-11068.200000</td>\n",
       "      <td>-17996.200000</td>\n",
       "    </tr>\n",
       "  </tbody>\n",
       "</table>\n",
       "</div>"
      ],
      "text/plain": [
       "             no_points  no_wood_points  no_leaf_points\n",
       "scenario                                              \n",
       "a        -33964.866667    -9170.200000   -24794.666667\n",
       "b        -35443.000000    -7976.266667   -27466.733333\n",
       "c        -40263.666667    -6723.133333   -33540.533333\n",
       "static   -29064.400000   -11068.200000   -17996.200000"
      ]
     },
     "metadata": {},
     "output_type": "display_data"
    }
   ],
   "source": [
    "print(\"Reduction of points by filtering\")\n",
    "display(hm_mls_df.groupby(\"scenario\").mean()[[\"no_points\", \"no_wood_points\", \"no_leaf_points\"]] - hm_df.groupby(\"scenario\").mean()[[\"no_points\", \"no_wood_points\", \"no_leaf_points\"]])"
   ]
  },
  {
   "cell_type": "code",
   "execution_count": 12,
   "id": "27235084",
   "metadata": {},
   "outputs": [
    {
     "name": "stdout",
     "output_type": "stream",
     "text": [
      "Differences in height deciles through filtering\n"
     ]
    },
    {
     "data": {
      "text/html": [
       "<div>\n",
       "<style scoped>\n",
       "    .dataframe tbody tr th:only-of-type {\n",
       "        vertical-align: middle;\n",
       "    }\n",
       "\n",
       "    .dataframe tbody tr th {\n",
       "        vertical-align: top;\n",
       "    }\n",
       "\n",
       "    .dataframe thead th {\n",
       "        text-align: right;\n",
       "    }\n",
       "</style>\n",
       "<table border=\"1\" class=\"dataframe\">\n",
       "  <thead>\n",
       "    <tr style=\"text-align: right;\">\n",
       "      <th></th>\n",
       "      <th>D1</th>\n",
       "      <th>D2</th>\n",
       "      <th>D3</th>\n",
       "      <th>D4</th>\n",
       "      <th>D5</th>\n",
       "      <th>D6</th>\n",
       "      <th>D7</th>\n",
       "      <th>D8</th>\n",
       "      <th>D9</th>\n",
       "    </tr>\n",
       "    <tr>\n",
       "      <th>scenario</th>\n",
       "      <th></th>\n",
       "      <th></th>\n",
       "      <th></th>\n",
       "      <th></th>\n",
       "      <th></th>\n",
       "      <th></th>\n",
       "      <th></th>\n",
       "      <th></th>\n",
       "      <th></th>\n",
       "    </tr>\n",
       "  </thead>\n",
       "  <tbody>\n",
       "    <tr>\n",
       "      <th>a</th>\n",
       "      <td>-0.003800</td>\n",
       "      <td>-0.000851</td>\n",
       "      <td>-0.001514</td>\n",
       "      <td>-0.000759</td>\n",
       "      <td>0.001130</td>\n",
       "      <td>0.001897</td>\n",
       "      <td>0.000197</td>\n",
       "      <td>0.000764</td>\n",
       "      <td>0.001352</td>\n",
       "    </tr>\n",
       "    <tr>\n",
       "      <th>b</th>\n",
       "      <td>-0.005834</td>\n",
       "      <td>-0.001287</td>\n",
       "      <td>-0.002243</td>\n",
       "      <td>-0.001689</td>\n",
       "      <td>0.000913</td>\n",
       "      <td>0.000037</td>\n",
       "      <td>-0.000969</td>\n",
       "      <td>-0.000816</td>\n",
       "      <td>0.001011</td>\n",
       "    </tr>\n",
       "    <tr>\n",
       "      <th>c</th>\n",
       "      <td>-0.005598</td>\n",
       "      <td>-0.003086</td>\n",
       "      <td>-0.003301</td>\n",
       "      <td>-0.001641</td>\n",
       "      <td>0.000186</td>\n",
       "      <td>0.000287</td>\n",
       "      <td>-0.000928</td>\n",
       "      <td>0.000308</td>\n",
       "      <td>0.001272</td>\n",
       "    </tr>\n",
       "    <tr>\n",
       "      <th>static</th>\n",
       "      <td>0.000786</td>\n",
       "      <td>0.001468</td>\n",
       "      <td>0.002495</td>\n",
       "      <td>0.002948</td>\n",
       "      <td>0.003561</td>\n",
       "      <td>0.004420</td>\n",
       "      <td>0.002413</td>\n",
       "      <td>0.001692</td>\n",
       "      <td>0.002225</td>\n",
       "    </tr>\n",
       "  </tbody>\n",
       "</table>\n",
       "</div>"
      ],
      "text/plain": [
       "                D1        D2        D3        D4        D5        D6  \\\n",
       "scenario                                                               \n",
       "a        -0.003800 -0.000851 -0.001514 -0.000759  0.001130  0.001897   \n",
       "b        -0.005834 -0.001287 -0.002243 -0.001689  0.000913  0.000037   \n",
       "c        -0.005598 -0.003086 -0.003301 -0.001641  0.000186  0.000287   \n",
       "static    0.000786  0.001468  0.002495  0.002948  0.003561  0.004420   \n",
       "\n",
       "                D7        D8        D9  \n",
       "scenario                                \n",
       "a         0.000197  0.000764  0.001352  \n",
       "b        -0.000969 -0.000816  0.001011  \n",
       "c        -0.000928  0.000308  0.001272  \n",
       "static    0.002413  0.001692  0.002225  "
      ]
     },
     "metadata": {},
     "output_type": "display_data"
    }
   ],
   "source": [
    "print(\"Differences in height deciles through filtering\")\n",
    "display(hm_mls_df.groupby(\"scenario\").mean()[[\"D1\", \"D2\", \"D3\", \"D4\", \"D5\", \"D6\", \"D7\", \"D8\", \"D9\"]] - hm_df.groupby(\"scenario\").mean()[[\"D1\", \"D2\", \"D3\", \"D4\", \"D5\", \"D6\", \"D7\", \"D8\", \"D9\"]])"
   ]
  },
  {
   "cell_type": "markdown",
   "id": "166f3153",
   "metadata": {},
   "source": [
    "### ULS"
   ]
  },
  {
   "cell_type": "code",
   "execution_count": 13,
   "id": "3e902143",
   "metadata": {},
   "outputs": [
    {
     "name": "stdout",
     "output_type": "stream",
     "text": [
      "ULS\n",
      "Minimum number of points per scenario\n"
     ]
    },
    {
     "data": {
      "text/html": [
       "<div>\n",
       "<style scoped>\n",
       "    .dataframe tbody tr th:only-of-type {\n",
       "        vertical-align: middle;\n",
       "    }\n",
       "\n",
       "    .dataframe tbody tr th {\n",
       "        vertical-align: top;\n",
       "    }\n",
       "\n",
       "    .dataframe thead th {\n",
       "        text-align: right;\n",
       "    }\n",
       "</style>\n",
       "<table border=\"1\" class=\"dataframe\">\n",
       "  <thead>\n",
       "    <tr style=\"text-align: right;\">\n",
       "      <th></th>\n",
       "      <th>no_points</th>\n",
       "      <th>no_wood_points</th>\n",
       "      <th>no_leaf_points</th>\n",
       "    </tr>\n",
       "    <tr>\n",
       "      <th>scenario</th>\n",
       "      <th></th>\n",
       "      <th></th>\n",
       "      <th></th>\n",
       "    </tr>\n",
       "  </thead>\n",
       "  <tbody>\n",
       "    <tr>\n",
       "      <th>a</th>\n",
       "      <td>1816</td>\n",
       "      <td>90</td>\n",
       "      <td>1645</td>\n",
       "    </tr>\n",
       "    <tr>\n",
       "      <th>b</th>\n",
       "      <td>1818</td>\n",
       "      <td>91</td>\n",
       "      <td>1650</td>\n",
       "    </tr>\n",
       "    <tr>\n",
       "      <th>c</th>\n",
       "      <td>1809</td>\n",
       "      <td>91</td>\n",
       "      <td>1650</td>\n",
       "    </tr>\n",
       "    <tr>\n",
       "      <th>static</th>\n",
       "      <td>1817</td>\n",
       "      <td>91</td>\n",
       "      <td>1648</td>\n",
       "    </tr>\n",
       "  </tbody>\n",
       "</table>\n",
       "</div>"
      ],
      "text/plain": [
       "          no_points  no_wood_points  no_leaf_points\n",
       "scenario                                           \n",
       "a              1816              90            1645\n",
       "b              1818              91            1650\n",
       "c              1809              91            1650\n",
       "static         1817              91            1648"
      ]
     },
     "metadata": {},
     "output_type": "display_data"
    },
    {
     "name": "stdout",
     "output_type": "stream",
     "text": [
      "Maximum number of points per scenario\n"
     ]
    },
    {
     "data": {
      "text/html": [
       "<div>\n",
       "<style scoped>\n",
       "    .dataframe tbody tr th:only-of-type {\n",
       "        vertical-align: middle;\n",
       "    }\n",
       "\n",
       "    .dataframe tbody tr th {\n",
       "        vertical-align: top;\n",
       "    }\n",
       "\n",
       "    .dataframe thead th {\n",
       "        text-align: right;\n",
       "    }\n",
       "</style>\n",
       "<table border=\"1\" class=\"dataframe\">\n",
       "  <thead>\n",
       "    <tr style=\"text-align: right;\">\n",
       "      <th></th>\n",
       "      <th>no_points</th>\n",
       "      <th>no_wood_points</th>\n",
       "      <th>no_leaf_points</th>\n",
       "    </tr>\n",
       "    <tr>\n",
       "      <th>scenario</th>\n",
       "      <th></th>\n",
       "      <th></th>\n",
       "      <th></th>\n",
       "    </tr>\n",
       "  </thead>\n",
       "  <tbody>\n",
       "    <tr>\n",
       "      <th>a</th>\n",
       "      <td>3278</td>\n",
       "      <td>655</td>\n",
       "      <td>2623</td>\n",
       "    </tr>\n",
       "    <tr>\n",
       "      <th>b</th>\n",
       "      <td>3265</td>\n",
       "      <td>656</td>\n",
       "      <td>2609</td>\n",
       "    </tr>\n",
       "    <tr>\n",
       "      <th>c</th>\n",
       "      <td>3252</td>\n",
       "      <td>658</td>\n",
       "      <td>2612</td>\n",
       "    </tr>\n",
       "    <tr>\n",
       "      <th>static</th>\n",
       "      <td>3274</td>\n",
       "      <td>653</td>\n",
       "      <td>2621</td>\n",
       "    </tr>\n",
       "  </tbody>\n",
       "</table>\n",
       "</div>"
      ],
      "text/plain": [
       "          no_points  no_wood_points  no_leaf_points\n",
       "scenario                                           \n",
       "a              3278             655            2623\n",
       "b              3265             656            2609\n",
       "c              3252             658            2612\n",
       "static         3274             653            2621"
      ]
     },
     "metadata": {},
     "output_type": "display_data"
    },
    {
     "name": "stdout",
     "output_type": "stream",
     "text": [
      "Mean number of points per scenario\n"
     ]
    },
    {
     "data": {
      "text/html": [
       "<div>\n",
       "<style scoped>\n",
       "    .dataframe tbody tr th:only-of-type {\n",
       "        vertical-align: middle;\n",
       "    }\n",
       "\n",
       "    .dataframe tbody tr th {\n",
       "        vertical-align: top;\n",
       "    }\n",
       "\n",
       "    .dataframe thead th {\n",
       "        text-align: right;\n",
       "    }\n",
       "</style>\n",
       "<table border=\"1\" class=\"dataframe\">\n",
       "  <thead>\n",
       "    <tr style=\"text-align: right;\">\n",
       "      <th></th>\n",
       "      <th>no_points</th>\n",
       "      <th>no_wood_points</th>\n",
       "      <th>no_leaf_points</th>\n",
       "    </tr>\n",
       "    <tr>\n",
       "      <th>scenario</th>\n",
       "      <th></th>\n",
       "      <th></th>\n",
       "      <th></th>\n",
       "    </tr>\n",
       "  </thead>\n",
       "  <tbody>\n",
       "    <tr>\n",
       "      <th>a</th>\n",
       "      <td>2432.3</td>\n",
       "      <td>359.9</td>\n",
       "      <td>2072.5</td>\n",
       "    </tr>\n",
       "    <tr>\n",
       "      <th>b</th>\n",
       "      <td>2432.3</td>\n",
       "      <td>360.2</td>\n",
       "      <td>2072.1</td>\n",
       "    </tr>\n",
       "    <tr>\n",
       "      <th>c</th>\n",
       "      <td>2430.2</td>\n",
       "      <td>360.0</td>\n",
       "      <td>2070.2</td>\n",
       "    </tr>\n",
       "    <tr>\n",
       "      <th>static</th>\n",
       "      <td>2432.5</td>\n",
       "      <td>358.9</td>\n",
       "      <td>2073.5</td>\n",
       "    </tr>\n",
       "  </tbody>\n",
       "</table>\n",
       "</div>"
      ],
      "text/plain": [
       "          no_points  no_wood_points  no_leaf_points\n",
       "scenario                                           \n",
       "a            2432.3           359.9          2072.5\n",
       "b            2432.3           360.2          2072.1\n",
       "c            2430.2           360.0          2070.2\n",
       "static       2432.5           358.9          2073.5"
      ]
     },
     "metadata": {},
     "output_type": "display_data"
    }
   ],
   "source": [
    "hm_df_uls = pd.read_pickle(Path(metric_folder) / uls_height_metrics)\n",
    "print(\"ULS\")\n",
    "print(\"Minimum number of points per scenario\")\n",
    "display(hm_df_uls.groupby([\"scenario\"])[[\"no_points\", \"no_wood_points\", \"no_leaf_points\"]].agg(\"min\"))\n",
    "print(\"Maximum number of points per scenario\")\n",
    "display(hm_df_uls.groupby([\"scenario\"])[[\"no_points\", \"no_wood_points\", \"no_leaf_points\"]].agg(\"max\"))\n",
    "print(\"Mean number of points per scenario\")\n",
    "display(hm_df_uls.groupby([\"scenario\"])[[\"no_points\", \"no_wood_points\", \"no_leaf_points\"]].agg(\"mean\").round(decimals=1))"
   ]
  },
  {
   "cell_type": "markdown",
   "id": "e974594e",
   "metadata": {},
   "source": [
    "### Leaf area metrics\n",
    "#### TLS\n",
    "Load all the data to data frames."
   ]
  },
  {
   "cell_type": "code",
   "execution_count": 14,
   "id": "ba1b2644",
   "metadata": {},
   "outputs": [],
   "source": [
    "la_ref_df = pd.read_csv(Path(metric_folder) / la_reference, sep=\" \", index_col=\"tree_id\")\n",
    "la_df = pd.read_pickle(Path(metric_folder) / tls_la_metrics)\n",
    "la_mls_df = pd.read_pickle(Path(metric_folder) / tls_la_metrics_mls)\n",
    "la_df_tri = pd.read_csv(Path(metric_folder) / tls_la_tri, sep=\" \")\n",
    "la_df_tri_mls = pd.read_csv(Path(metric_folder) / tls_la_tri_mls, sep=\" \")\n",
    "la_df_amapvox = pd.read_csv(Path(metric_folder) / tls_la_amapvox, sep=\" \")"
   ]
  },
  {
   "cell_type": "markdown",
   "id": "14dc0e25",
   "metadata": {},
   "source": [
    "Merge all the data to one data frame."
   ]
  },
  {
   "cell_type": "code",
   "execution_count": 15,
   "id": "142cd6f2",
   "metadata": {},
   "outputs": [],
   "source": [
    "la_df = pd.merge(la_df[[\"alpha_leaf_area\", \"poisson_leaf_area\", \"poisson_leaf_area_fixedthresh\"]].reset_index(), la_mls_df[[\"alpha_leaf_area\", \"poisson_leaf_area\", \"poisson_leaf_area_fixedthresh\"]].reset_index(), on=[\"tree_id\", \"scenario\"], suffixes=('', '_mls')).set_index([\"scenario\", \"tree_id\"])\n",
    "la_df = pd.merge(la_df.reset_index(), la_df_tri, on=[\"tree_id\", \"scenario\"], suffixes=('', '_mls')).set_index([\"scenario\", \"tree_id\"])\n",
    "la_df = pd.merge(la_df.reset_index(), la_df_tri_mls, on=[\"tree_id\", \"scenario\"], suffixes=('', '_mls')).set_index([\"scenario\", \"tree_id\"])\n",
    "la_df = pd.merge(la_df.reset_index(), la_ref_df, on=[\"tree_id\"]).set_index([\"scenario\", \"tree_id\"])\n",
    "la_df_amapvox = pd.merge(la_df_amapvox.reset_index(), la_ref_df, on=[\"tree_id\"]).set_index([\"scenario\", \"tree_id\"])"
   ]
  },
  {
   "cell_type": "code",
   "execution_count": 16,
   "id": "e70146c8",
   "metadata": {},
   "outputs": [],
   "source": [
    "la_df[\"alpha_la_diff\"] = (la_df[\"alpha_leaf_area\"]-la_df[\"leaf_area\"])\n",
    "la_df[\"alpha_la_mls_diff\"] = (la_df[\"alpha_leaf_area_mls\"]-la_df[\"leaf_area\"])\n",
    "la_df[\"tri_la_diff\"] = (la_df[\"la_tri\"]-la_df[\"leaf_area\"])\n",
    "la_df[\"tri_la_mls_diff\"] = (la_df[\"la_tri_mls\"]-la_df[\"leaf_area\"])\n",
    "la_df[\"poisson_la_diff\"] = (la_df[\"poisson_leaf_area\"]-la_df[\"leaf_area\"])\n",
    "la_df[\"poisson_la_fixedthresh_diff\"] = (la_df[\"poisson_leaf_area_fixedthresh\"]-la_df[\"leaf_area\"])\n",
    "la_df[\"poisson_la_mls_diff\"] = (la_df[\"poisson_leaf_area_mls\"]-la_df[\"leaf_area\"])\n",
    "la_df[\"poisson_la_mls_fixedthresh_diff\"] = (la_df[\"poisson_leaf_area_fixedthresh_mls\"]-la_df[\"leaf_area\"])\n",
    "la_df_amapvox[\"la_t_diff\"] = (la_df_amapvox[\"la_t\"] - la_df_amapvox[\"leaf_area\"])\n",
    "la_df_amapvox[\"la_att_fpl_diff\"] = (la_df_amapvox[\"la_att_fpl\"] - la_df_amapvox[\"leaf_area\"])\n",
    "la_df_amapvox[\"la_att_ppl_diff\"] = (la_df_amapvox[\"la_att_ppl\"] - la_df_amapvox[\"leaf_area\"])"
   ]
  },
  {
   "cell_type": "markdown",
   "id": "2aa3d703",
   "metadata": {},
   "source": [
    "Create new columns with the relative differences."
   ]
  },
  {
   "cell_type": "code",
   "execution_count": 17,
   "id": "c72ec95b",
   "metadata": {},
   "outputs": [],
   "source": [
    "la_df[\"alpha_la_diff_rel\"] = (la_df[\"alpha_leaf_area\"]-la_df[\"leaf_area\"]) / la_df[\"leaf_area\"] * 100\n",
    "la_df[\"alpha_la_mls_diff_rel\"] = (la_df[\"alpha_leaf_area_mls\"]-la_df[\"leaf_area\"]) / la_df[\"leaf_area\"] * 100\n",
    "la_df[\"tri_la_diff_rel\"] = (la_df[\"la_tri\"]-la_df[\"leaf_area\"]) / la_df[\"leaf_area\"] * 100\n",
    "la_df[\"tri_la_mls_diff_rel\"] = (la_df[\"la_tri_mls\"]-la_df[\"leaf_area\"]) / la_df[\"leaf_area\"] * 100\n",
    "la_df[\"poisson_la_diff_rel\"] = (la_df[\"poisson_leaf_area\"]-la_df[\"leaf_area\"]) / la_df[\"leaf_area\"] * 100\n",
    "la_df[\"poisson_la_fixedthresh_diff_rel\"] = (la_df[\"poisson_leaf_area_fixedthresh\"]-la_df[\"leaf_area\"]) / la_df[\"leaf_area\"] * 100\n",
    "la_df[\"poisson_la_mls_diff_rel\"] = (la_df[\"poisson_leaf_area_mls\"]-la_df[\"leaf_area\"]) / la_df[\"leaf_area\"] * 100\n",
    "la_df[\"poisson_la_mls_fixedthresh_diff_rel\"] = (la_df[\"poisson_leaf_area_fixedthresh_mls\"]-la_df[\"leaf_area\"]) / la_df[\"leaf_area\"] * 100\n",
    "la_df_amapvox[\"la_t_diff_rel\"] = (la_df_amapvox[\"la_t\"] - la_df_amapvox[\"leaf_area\"]) / la_df[\"leaf_area\"] * 100\n",
    "la_df_amapvox[\"la_att_fpl_diff_rel\"] = (la_df_amapvox[\"la_att_fpl\"] - la_df_amapvox[\"leaf_area\"]) / la_df[\"leaf_area\"] * 100\n",
    "la_df_amapvox[\"la_att_ppl_diff_rel\"] = (la_df_amapvox[\"la_att_ppl\"] - la_df_amapvox[\"leaf_area\"]) / la_df[\"leaf_area\"] * 100"
   ]
  },
  {
   "cell_type": "code",
   "execution_count": 21,
   "id": "8064bc99",
   "metadata": {},
   "outputs": [
    {
     "data": {
      "text/html": [
       "<div>\n",
       "<style scoped>\n",
       "    .dataframe tbody tr th:only-of-type {\n",
       "        vertical-align: middle;\n",
       "    }\n",
       "\n",
       "    .dataframe tbody tr th {\n",
       "        vertical-align: top;\n",
       "    }\n",
       "\n",
       "    .dataframe thead th {\n",
       "        text-align: right;\n",
       "    }\n",
       "</style>\n",
       "<table border=\"1\" class=\"dataframe\">\n",
       "  <thead>\n",
       "    <tr style=\"text-align: right;\">\n",
       "      <th></th>\n",
       "      <th>alpha_la_diff</th>\n",
       "      <th>alpha_la_mls_diff</th>\n",
       "      <th>tri_la_diff</th>\n",
       "      <th>tri_la_mls_diff</th>\n",
       "      <th>poisson_la_diff</th>\n",
       "      <th>poisson_la_mls_diff</th>\n",
       "      <th>poisson_la_fixedthresh_diff</th>\n",
       "      <th>poisson_la_mls_fixedthresh_diff</th>\n",
       "    </tr>\n",
       "    <tr>\n",
       "      <th>scenario</th>\n",
       "      <th></th>\n",
       "      <th></th>\n",
       "      <th></th>\n",
       "      <th></th>\n",
       "      <th></th>\n",
       "      <th></th>\n",
       "      <th></th>\n",
       "      <th></th>\n",
       "    </tr>\n",
       "  </thead>\n",
       "  <tbody>\n",
       "    <tr>\n",
       "      <th>a</th>\n",
       "      <td>0.61</td>\n",
       "      <td>-0.08</td>\n",
       "      <td>2.23</td>\n",
       "      <td>0.23</td>\n",
       "      <td>0.40</td>\n",
       "      <td>-0.12</td>\n",
       "      <td>0.56</td>\n",
       "      <td>-0.06</td>\n",
       "    </tr>\n",
       "    <tr>\n",
       "      <th>b</th>\n",
       "      <td>0.72</td>\n",
       "      <td>-0.00</td>\n",
       "      <td>3.17</td>\n",
       "      <td>0.37</td>\n",
       "      <td>0.62</td>\n",
       "      <td>-0.10</td>\n",
       "      <td>0.86</td>\n",
       "      <td>-0.04</td>\n",
       "    </tr>\n",
       "    <tr>\n",
       "      <th>c</th>\n",
       "      <td>1.11</td>\n",
       "      <td>0.25</td>\n",
       "      <td>4.88</td>\n",
       "      <td>0.83</td>\n",
       "      <td>1.06</td>\n",
       "      <td>0.04</td>\n",
       "      <td>1.42</td>\n",
       "      <td>0.13</td>\n",
       "    </tr>\n",
       "    <tr>\n",
       "      <th>static</th>\n",
       "      <td>0.48</td>\n",
       "      <td>-0.16</td>\n",
       "      <td>1.17</td>\n",
       "      <td>0.09</td>\n",
       "      <td>0.17</td>\n",
       "      <td>-0.14</td>\n",
       "      <td>0.26</td>\n",
       "      <td>-0.09</td>\n",
       "    </tr>\n",
       "  </tbody>\n",
       "</table>\n",
       "</div>"
      ],
      "text/plain": [
       "          alpha_la_diff  alpha_la_mls_diff  tri_la_diff  tri_la_mls_diff  \\\n",
       "scenario                                                                   \n",
       "a                  0.61              -0.08         2.23             0.23   \n",
       "b                  0.72              -0.00         3.17             0.37   \n",
       "c                  1.11               0.25         4.88             0.83   \n",
       "static             0.48              -0.16         1.17             0.09   \n",
       "\n",
       "          poisson_la_diff  poisson_la_mls_diff  poisson_la_fixedthresh_diff  \\\n",
       "scenario                                                                      \n",
       "a                    0.40                -0.12                         0.56   \n",
       "b                    0.62                -0.10                         0.86   \n",
       "c                    1.06                 0.04                         1.42   \n",
       "static               0.17                -0.14                         0.26   \n",
       "\n",
       "          poisson_la_mls_fixedthresh_diff  \n",
       "scenario                                   \n",
       "a                                   -0.06  \n",
       "b                                   -0.04  \n",
       "c                                    0.13  \n",
       "static                              -0.09  "
      ]
     },
     "metadata": {},
     "output_type": "display_data"
    },
    {
     "data": {
      "text/html": [
       "<div>\n",
       "<style scoped>\n",
       "    .dataframe tbody tr th:only-of-type {\n",
       "        vertical-align: middle;\n",
       "    }\n",
       "\n",
       "    .dataframe tbody tr th {\n",
       "        vertical-align: top;\n",
       "    }\n",
       "\n",
       "    .dataframe thead th {\n",
       "        text-align: right;\n",
       "    }\n",
       "</style>\n",
       "<table border=\"1\" class=\"dataframe\">\n",
       "  <thead>\n",
       "    <tr style=\"text-align: right;\">\n",
       "      <th></th>\n",
       "      <th>la_t_diff</th>\n",
       "      <th>la_att_fpl_diff</th>\n",
       "      <th>la_att_ppl_diff</th>\n",
       "    </tr>\n",
       "    <tr>\n",
       "      <th>scenario</th>\n",
       "      <th></th>\n",
       "      <th></th>\n",
       "      <th></th>\n",
       "    </tr>\n",
       "  </thead>\n",
       "  <tbody>\n",
       "    <tr>\n",
       "      <th>a</th>\n",
       "      <td>-0.013</td>\n",
       "      <td>0.201</td>\n",
       "      <td>0.157</td>\n",
       "    </tr>\n",
       "    <tr>\n",
       "      <th>b</th>\n",
       "      <td>-0.019</td>\n",
       "      <td>0.208</td>\n",
       "      <td>0.155</td>\n",
       "    </tr>\n",
       "    <tr>\n",
       "      <th>c</th>\n",
       "      <td>0.005</td>\n",
       "      <td>0.289</td>\n",
       "      <td>0.202</td>\n",
       "    </tr>\n",
       "    <tr>\n",
       "      <th>static</th>\n",
       "      <td>-0.030</td>\n",
       "      <td>0.166</td>\n",
       "      <td>0.136</td>\n",
       "    </tr>\n",
       "  </tbody>\n",
       "</table>\n",
       "</div>"
      ],
      "text/plain": [
       "          la_t_diff  la_att_fpl_diff  la_att_ppl_diff\n",
       "scenario                                             \n",
       "a            -0.013            0.201            0.157\n",
       "b            -0.019            0.208            0.155\n",
       "c             0.005            0.289            0.202\n",
       "static       -0.030            0.166            0.136"
      ]
     },
     "metadata": {},
     "output_type": "display_data"
    }
   ],
   "source": [
    "la_df = la_df.astype(\"float\")\n",
    "display(la_df[[\"alpha_la_diff\", \"alpha_la_mls_diff\", \"tri_la_diff\", \"tri_la_mls_diff\", \"poisson_la_diff\", \"poisson_la_mls_diff\", \"poisson_la_fixedthresh_diff\", \"poisson_la_mls_fixedthresh_diff\"]].groupby(\"scenario\").agg(\"mean\").round(decimals=2))\n",
    "display(la_df_amapvox[[\"la_t_diff\", \"la_att_fpl_diff\", \"la_att_ppl_diff\"]].groupby(\"scenario\").agg(\"mean\").round(decimals=3))"
   ]
  },
  {
   "cell_type": "code",
   "execution_count": 23,
   "id": "efd1dcac",
   "metadata": {},
   "outputs": [
    {
     "data": {
      "text/html": [
       "<div>\n",
       "<style scoped>\n",
       "    .dataframe tbody tr th:only-of-type {\n",
       "        vertical-align: middle;\n",
       "    }\n",
       "\n",
       "    .dataframe tbody tr th {\n",
       "        vertical-align: top;\n",
       "    }\n",
       "\n",
       "    .dataframe thead th {\n",
       "        text-align: right;\n",
       "    }\n",
       "</style>\n",
       "<table border=\"1\" class=\"dataframe\">\n",
       "  <thead>\n",
       "    <tr style=\"text-align: right;\">\n",
       "      <th></th>\n",
       "      <th>alpha_la_diff_rel</th>\n",
       "      <th>alpha_la_mls_diff_rel</th>\n",
       "      <th>tri_la_diff_rel</th>\n",
       "      <th>tri_la_mls_diff_rel</th>\n",
       "      <th>poisson_la_diff_rel</th>\n",
       "      <th>poisson_la_mls_diff_rel</th>\n",
       "      <th>poisson_la_fixedthresh_diff_rel</th>\n",
       "      <th>poisson_la_mls_fixedthresh_diff_rel</th>\n",
       "    </tr>\n",
       "    <tr>\n",
       "      <th>scenario</th>\n",
       "      <th></th>\n",
       "      <th></th>\n",
       "      <th></th>\n",
       "      <th></th>\n",
       "      <th></th>\n",
       "      <th></th>\n",
       "      <th></th>\n",
       "      <th></th>\n",
       "    </tr>\n",
       "  </thead>\n",
       "  <tbody>\n",
       "    <tr>\n",
       "      <th>a</th>\n",
       "      <td>65.97</td>\n",
       "      <td>-5.84</td>\n",
       "      <td>226.28</td>\n",
       "      <td>23.91</td>\n",
       "      <td>42.34</td>\n",
       "      <td>-8.86</td>\n",
       "      <td>56.84</td>\n",
       "      <td>-4.17</td>\n",
       "    </tr>\n",
       "    <tr>\n",
       "      <th>b</th>\n",
       "      <td>77.43</td>\n",
       "      <td>1.93</td>\n",
       "      <td>321.20</td>\n",
       "      <td>38.06</td>\n",
       "      <td>64.51</td>\n",
       "      <td>-7.00</td>\n",
       "      <td>86.34</td>\n",
       "      <td>-2.17</td>\n",
       "    </tr>\n",
       "    <tr>\n",
       "      <th>c</th>\n",
       "      <td>117.68</td>\n",
       "      <td>28.29</td>\n",
       "      <td>497.47</td>\n",
       "      <td>85.19</td>\n",
       "      <td>110.87</td>\n",
       "      <td>7.26</td>\n",
       "      <td>143.74</td>\n",
       "      <td>14.95</td>\n",
       "    </tr>\n",
       "    <tr>\n",
       "      <th>static</th>\n",
       "      <td>51.54</td>\n",
       "      <td>-14.96</td>\n",
       "      <td>115.99</td>\n",
       "      <td>9.50</td>\n",
       "      <td>17.98</td>\n",
       "      <td>-10.57</td>\n",
       "      <td>25.66</td>\n",
       "      <td>-6.78</td>\n",
       "    </tr>\n",
       "  </tbody>\n",
       "</table>\n",
       "</div>"
      ],
      "text/plain": [
       "          alpha_la_diff_rel  alpha_la_mls_diff_rel  tri_la_diff_rel  \\\n",
       "scenario                                                              \n",
       "a                     65.97                  -5.84           226.28   \n",
       "b                     77.43                   1.93           321.20   \n",
       "c                    117.68                  28.29           497.47   \n",
       "static                51.54                 -14.96           115.99   \n",
       "\n",
       "          tri_la_mls_diff_rel  poisson_la_diff_rel  poisson_la_mls_diff_rel  \\\n",
       "scenario                                                                      \n",
       "a                       23.91                42.34                    -8.86   \n",
       "b                       38.06                64.51                    -7.00   \n",
       "c                       85.19               110.87                     7.26   \n",
       "static                   9.50                17.98                   -10.57   \n",
       "\n",
       "          poisson_la_fixedthresh_diff_rel  poisson_la_mls_fixedthresh_diff_rel  \n",
       "scenario                                                                        \n",
       "a                                   56.84                                -4.17  \n",
       "b                                   86.34                                -2.17  \n",
       "c                                  143.74                                14.95  \n",
       "static                              25.66                                -6.78  "
      ]
     },
     "metadata": {},
     "output_type": "display_data"
    },
    {
     "data": {
      "text/html": [
       "<div>\n",
       "<style scoped>\n",
       "    .dataframe tbody tr th:only-of-type {\n",
       "        vertical-align: middle;\n",
       "    }\n",
       "\n",
       "    .dataframe tbody tr th {\n",
       "        vertical-align: top;\n",
       "    }\n",
       "\n",
       "    .dataframe thead th {\n",
       "        text-align: right;\n",
       "    }\n",
       "</style>\n",
       "<table border=\"1\" class=\"dataframe\">\n",
       "  <thead>\n",
       "    <tr style=\"text-align: right;\">\n",
       "      <th></th>\n",
       "      <th>la_t_diff_rel</th>\n",
       "      <th>la_att_fpl_diff_rel</th>\n",
       "      <th>la_att_ppl_diff_rel</th>\n",
       "    </tr>\n",
       "    <tr>\n",
       "      <th>scenario</th>\n",
       "      <th></th>\n",
       "      <th></th>\n",
       "      <th></th>\n",
       "    </tr>\n",
       "  </thead>\n",
       "  <tbody>\n",
       "    <tr>\n",
       "      <th>a</th>\n",
       "      <td>2.964</td>\n",
       "      <td>25.969</td>\n",
       "      <td>21.887</td>\n",
       "    </tr>\n",
       "    <tr>\n",
       "      <th>b</th>\n",
       "      <td>2.150</td>\n",
       "      <td>26.551</td>\n",
       "      <td>21.332</td>\n",
       "    </tr>\n",
       "    <tr>\n",
       "      <th>c</th>\n",
       "      <td>5.104</td>\n",
       "      <td>35.579</td>\n",
       "      <td>26.794</td>\n",
       "    </tr>\n",
       "    <tr>\n",
       "      <th>static</th>\n",
       "      <td>0.924</td>\n",
       "      <td>22.040</td>\n",
       "      <td>19.301</td>\n",
       "    </tr>\n",
       "  </tbody>\n",
       "</table>\n",
       "</div>"
      ],
      "text/plain": [
       "          la_t_diff_rel  la_att_fpl_diff_rel  la_att_ppl_diff_rel\n",
       "scenario                                                         \n",
       "a                 2.964               25.969               21.887\n",
       "b                 2.150               26.551               21.332\n",
       "c                 5.104               35.579               26.794\n",
       "static            0.924               22.040               19.301"
      ]
     },
     "metadata": {},
     "output_type": "display_data"
    }
   ],
   "source": [
    "display(la_df[[\"alpha_la_diff_rel\",\n",
    "               \"alpha_la_mls_diff_rel\",\n",
    "               \"tri_la_diff_rel\", \n",
    "               \"tri_la_mls_diff_rel\",\n",
    "               \"poisson_la_diff_rel\",\n",
    "               \"poisson_la_mls_diff_rel\",\n",
    "               \"poisson_la_fixedthresh_diff_rel\", \n",
    "               \"poisson_la_mls_fixedthresh_diff_rel\"]].groupby(\"scenario\").agg(\"mean\").round(decimals=2))\n",
    "display(la_df_amapvox[[\"la_t_diff_rel\",\n",
    "                       \"la_att_fpl_diff_rel\", \n",
    "                       \"la_att_ppl_diff_rel\"]].groupby(\"scenario\").agg(\"mean\").round(decimals=3))"
   ]
  },
  {
   "cell_type": "code",
   "execution_count": 24,
   "id": "88182903",
   "metadata": {},
   "outputs": [
    {
     "data": {
      "text/html": [
       "<div>\n",
       "<style scoped>\n",
       "    .dataframe tbody tr th:only-of-type {\n",
       "        vertical-align: middle;\n",
       "    }\n",
       "\n",
       "    .dataframe tbody tr th {\n",
       "        vertical-align: top;\n",
       "    }\n",
       "\n",
       "    .dataframe thead th {\n",
       "        text-align: right;\n",
       "    }\n",
       "</style>\n",
       "<table border=\"1\" class=\"dataframe\">\n",
       "  <thead>\n",
       "    <tr style=\"text-align: right;\">\n",
       "      <th></th>\n",
       "      <th>alpha_la_diff</th>\n",
       "      <th>alpha_la_mls_diff</th>\n",
       "      <th>tri_la_diff</th>\n",
       "      <th>tri_la_mls_diff</th>\n",
       "      <th>poisson_la_diff</th>\n",
       "      <th>poisson_la_mls_diff</th>\n",
       "      <th>poisson_la_fixedthresh_diff</th>\n",
       "      <th>poisson_la_mls_fixedthresh_diff</th>\n",
       "    </tr>\n",
       "    <tr>\n",
       "      <th>scenario</th>\n",
       "      <th></th>\n",
       "      <th></th>\n",
       "      <th></th>\n",
       "      <th></th>\n",
       "      <th></th>\n",
       "      <th></th>\n",
       "      <th></th>\n",
       "      <th></th>\n",
       "    </tr>\n",
       "  </thead>\n",
       "  <tbody>\n",
       "    <tr>\n",
       "      <th>a</th>\n",
       "      <td>0.60</td>\n",
       "      <td>-0.02</td>\n",
       "      <td>2.02</td>\n",
       "      <td>0.20</td>\n",
       "      <td>0.36</td>\n",
       "      <td>-0.09</td>\n",
       "      <td>0.52</td>\n",
       "      <td>-0.06</td>\n",
       "    </tr>\n",
       "    <tr>\n",
       "      <th>b</th>\n",
       "      <td>0.75</td>\n",
       "      <td>0.04</td>\n",
       "      <td>3.01</td>\n",
       "      <td>0.32</td>\n",
       "      <td>0.59</td>\n",
       "      <td>-0.07</td>\n",
       "      <td>0.80</td>\n",
       "      <td>-0.03</td>\n",
       "    </tr>\n",
       "    <tr>\n",
       "      <th>c</th>\n",
       "      <td>1.08</td>\n",
       "      <td>0.31</td>\n",
       "      <td>4.81</td>\n",
       "      <td>0.84</td>\n",
       "      <td>1.03</td>\n",
       "      <td>0.08</td>\n",
       "      <td>1.37</td>\n",
       "      <td>0.12</td>\n",
       "    </tr>\n",
       "    <tr>\n",
       "      <th>static</th>\n",
       "      <td>0.45</td>\n",
       "      <td>-0.12</td>\n",
       "      <td>1.01</td>\n",
       "      <td>0.08</td>\n",
       "      <td>0.15</td>\n",
       "      <td>-0.10</td>\n",
       "      <td>0.24</td>\n",
       "      <td>-0.08</td>\n",
       "    </tr>\n",
       "  </tbody>\n",
       "</table>\n",
       "</div>"
      ],
      "text/plain": [
       "          alpha_la_diff  alpha_la_mls_diff  tri_la_diff  tri_la_mls_diff  \\\n",
       "scenario                                                                   \n",
       "a                  0.60              -0.02         2.02             0.20   \n",
       "b                  0.75               0.04         3.01             0.32   \n",
       "c                  1.08               0.31         4.81             0.84   \n",
       "static             0.45              -0.12         1.01             0.08   \n",
       "\n",
       "          poisson_la_diff  poisson_la_mls_diff  poisson_la_fixedthresh_diff  \\\n",
       "scenario                                                                      \n",
       "a                    0.36                -0.09                         0.52   \n",
       "b                    0.59                -0.07                         0.80   \n",
       "c                    1.03                 0.08                         1.37   \n",
       "static               0.15                -0.10                         0.24   \n",
       "\n",
       "          poisson_la_mls_fixedthresh_diff  \n",
       "scenario                                   \n",
       "a                                   -0.06  \n",
       "b                                   -0.03  \n",
       "c                                    0.12  \n",
       "static                              -0.08  "
      ]
     },
     "metadata": {},
     "output_type": "display_data"
    }
   ],
   "source": [
    "display(la_df[[\"alpha_la_diff\",\n",
    "               \"alpha_la_mls_diff\",\n",
    "               \"tri_la_diff\",\n",
    "               \"tri_la_mls_diff\",\n",
    "               \"poisson_la_diff\",\n",
    "               \"poisson_la_mls_diff\",\n",
    "               \"poisson_la_fixedthresh_diff\",\n",
    "               \"poisson_la_mls_fixedthresh_diff\"]].groupby(\"scenario\").agg(\"median\").round(decimals=2))"
   ]
  },
  {
   "cell_type": "code",
   "execution_count": 25,
   "id": "e934eb48",
   "metadata": {
    "scrolled": true
   },
   "outputs": [
    {
     "data": {
      "text/html": [
       "<div>\n",
       "<style scoped>\n",
       "    .dataframe tbody tr th:only-of-type {\n",
       "        vertical-align: middle;\n",
       "    }\n",
       "\n",
       "    .dataframe tbody tr th {\n",
       "        vertical-align: top;\n",
       "    }\n",
       "\n",
       "    .dataframe thead th {\n",
       "        text-align: right;\n",
       "    }\n",
       "</style>\n",
       "<table border=\"1\" class=\"dataframe\">\n",
       "  <thead>\n",
       "    <tr style=\"text-align: right;\">\n",
       "      <th></th>\n",
       "      <th>alpha_la_diff_rel</th>\n",
       "      <th>alpha_la_mls_diff_rel</th>\n",
       "      <th>tri_la_diff_rel</th>\n",
       "      <th>tri_la_mls_diff_rel</th>\n",
       "      <th>poisson_la_diff_rel</th>\n",
       "      <th>poisson_la_mls_diff_rel</th>\n",
       "      <th>poisson_la_fixedthresh_diff_rel</th>\n",
       "      <th>poisson_la_mls_fixedthresh_diff_rel</th>\n",
       "    </tr>\n",
       "    <tr>\n",
       "      <th>scenario</th>\n",
       "      <th></th>\n",
       "      <th></th>\n",
       "      <th></th>\n",
       "      <th></th>\n",
       "      <th></th>\n",
       "      <th></th>\n",
       "      <th></th>\n",
       "      <th></th>\n",
       "    </tr>\n",
       "  </thead>\n",
       "  <tbody>\n",
       "    <tr>\n",
       "      <th>a</th>\n",
       "      <td>76.52</td>\n",
       "      <td>-3.15</td>\n",
       "      <td>215.99</td>\n",
       "      <td>25.69</td>\n",
       "      <td>39.17</td>\n",
       "      <td>-11.15</td>\n",
       "      <td>51.97</td>\n",
       "      <td>-6.24</td>\n",
       "    </tr>\n",
       "    <tr>\n",
       "      <th>b</th>\n",
       "      <td>87.49</td>\n",
       "      <td>5.12</td>\n",
       "      <td>317.32</td>\n",
       "      <td>36.76</td>\n",
       "      <td>59.88</td>\n",
       "      <td>-6.79</td>\n",
       "      <td>81.55</td>\n",
       "      <td>-3.41</td>\n",
       "    </tr>\n",
       "    <tr>\n",
       "      <th>c</th>\n",
       "      <td>124.65</td>\n",
       "      <td>32.11</td>\n",
       "      <td>472.94</td>\n",
       "      <td>86.33</td>\n",
       "      <td>102.88</td>\n",
       "      <td>7.37</td>\n",
       "      <td>137.65</td>\n",
       "      <td>11.17</td>\n",
       "    </tr>\n",
       "    <tr>\n",
       "      <th>static</th>\n",
       "      <td>58.46</td>\n",
       "      <td>-15.13</td>\n",
       "      <td>103.08</td>\n",
       "      <td>9.61</td>\n",
       "      <td>18.20</td>\n",
       "      <td>-10.72</td>\n",
       "      <td>24.00</td>\n",
       "      <td>-8.26</td>\n",
       "    </tr>\n",
       "  </tbody>\n",
       "</table>\n",
       "</div>"
      ],
      "text/plain": [
       "          alpha_la_diff_rel  alpha_la_mls_diff_rel  tri_la_diff_rel  \\\n",
       "scenario                                                              \n",
       "a                     76.52                  -3.15           215.99   \n",
       "b                     87.49                   5.12           317.32   \n",
       "c                    124.65                  32.11           472.94   \n",
       "static                58.46                 -15.13           103.08   \n",
       "\n",
       "          tri_la_mls_diff_rel  poisson_la_diff_rel  poisson_la_mls_diff_rel  \\\n",
       "scenario                                                                      \n",
       "a                       25.69                39.17                   -11.15   \n",
       "b                       36.76                59.88                    -6.79   \n",
       "c                       86.33               102.88                     7.37   \n",
       "static                   9.61                18.20                   -10.72   \n",
       "\n",
       "          poisson_la_fixedthresh_diff_rel  poisson_la_mls_fixedthresh_diff_rel  \n",
       "scenario                                                                        \n",
       "a                                   51.97                                -6.24  \n",
       "b                                   81.55                                -3.41  \n",
       "c                                  137.65                                11.17  \n",
       "static                              24.00                                -8.26  "
      ]
     },
     "metadata": {},
     "output_type": "display_data"
    }
   ],
   "source": [
    "display(la_df[[\"alpha_la_diff_rel\",\n",
    "               \"alpha_la_mls_diff_rel\",\n",
    "               \"tri_la_diff_rel\",\n",
    "               \"tri_la_mls_diff_rel\",\n",
    "               \"poisson_la_diff_rel\",\n",
    "               \"poisson_la_mls_diff_rel\",\n",
    "               \"poisson_la_fixedthresh_diff_rel\",\n",
    "               \"poisson_la_mls_fixedthresh_diff_rel\"]].groupby(\"scenario\").agg(\"median\").round(decimals=2))"
   ]
  },
  {
   "cell_type": "code",
   "execution_count": 26,
   "id": "5b4bb7b6",
   "metadata": {},
   "outputs": [],
   "source": [
    "la_df_diffs_static = la_df.loc[\"static\", [\"alpha_la_diff\", \"alpha_la_mls_diff\", \"tri_la_diff\", \"tri_la_mls_diff\", \"poisson_la_diff\", \"poisson_la_mls_diff\", \"poisson_la_fixedthresh_diff\", \"poisson_la_mls_fixedthresh_diff\"]]\n",
    "la_df_diffs_a = la_df.loc[\"a\", [\"alpha_la_diff\", \"alpha_la_mls_diff\", \"tri_la_diff\", \"tri_la_mls_diff\", \"poisson_la_diff\", \"poisson_la_mls_diff\", \"poisson_la_fixedthresh_diff\", \"poisson_la_mls_fixedthresh_diff\"]]\n",
    "la_df_diffs_b = la_df.loc[\"b\", [\"alpha_la_diff\", \"alpha_la_mls_diff\", \"tri_la_diff\", \"tri_la_mls_diff\", \"poisson_la_diff\", \"poisson_la_mls_diff\", \"poisson_la_fixedthresh_diff\", \"poisson_la_mls_fixedthresh_diff\"]]\n",
    "la_df_diffs_c = la_df.loc[\"c\", [\"alpha_la_diff\", \"alpha_la_mls_diff\", \"tri_la_diff\", \"tri_la_mls_diff\", \"poisson_la_diff\", \"poisson_la_mls_diff\", \"poisson_la_fixedthresh_diff\", \"poisson_la_mls_fixedthresh_diff\"]]\n",
    "\n",
    "la_df_amapvox_diffs_static = la_df_amapvox.loc[\"static\", [\"la_t_diff\", \"la_att_fpl_diff\", \"la_att_ppl_diff\"]]\n",
    "la_df_amapvox_diffs_a = la_df_amapvox.loc[\"a\", [\"la_t_diff\", \"la_att_fpl_diff\", \"la_att_ppl_diff\"]]\n",
    "la_df_amapvox_diffs_b = la_df_amapvox.loc[\"b\", [\"la_t_diff\", \"la_att_fpl_diff\", \"la_att_ppl_diff\"]]\n",
    "la_df_amapvox_diffs_c = la_df_amapvox.loc[\"c\", [\"la_t_diff\", \"la_att_fpl_diff\", \"la_att_ppl_diff\"]]"
   ]
  },
  {
   "cell_type": "code",
   "execution_count": 27,
   "id": "d14b8808",
   "metadata": {},
   "outputs": [],
   "source": [
    "la_df_rel_diffs_static = la_df.loc[\"static\", [\"alpha_la_diff_rel\", \"alpha_la_mls_diff_rel\", \"tri_la_diff_rel\", \"tri_la_mls_diff_rel\", \"poisson_la_diff_rel\", \"poisson_la_mls_diff_rel\", \"poisson_la_fixedthresh_diff_rel\", \"poisson_la_mls_fixedthresh_diff_rel\"]]\n",
    "la_df_rel_diffs_a = la_df.loc[\"a\", [\"alpha_la_diff_rel\", \"alpha_la_mls_diff_rel\", \"tri_la_diff_rel\", \"tri_la_mls_diff_rel\", \"poisson_la_diff_rel\", \"poisson_la_mls_diff_rel\", \"poisson_la_fixedthresh_diff_rel\", \"poisson_la_mls_fixedthresh_diff_rel\"]]\n",
    "la_df_rel_diffs_b = la_df.loc[\"b\", [\"alpha_la_diff_rel\", \"alpha_la_mls_diff_rel\", \"tri_la_diff_rel\", \"tri_la_mls_diff_rel\", \"poisson_la_diff_rel\", \"poisson_la_mls_diff_rel\", \"poisson_la_fixedthresh_diff_rel\", \"poisson_la_mls_fixedthresh_diff_rel\"]]\n",
    "la_df_rel_diffs_c = la_df.loc[\"c\", [\"alpha_la_diff_rel\", \"alpha_la_mls_diff_rel\", \"tri_la_diff_rel\", \"tri_la_mls_diff_rel\", \"poisson_la_diff_rel\", \"poisson_la_mls_diff_rel\", \"poisson_la_fixedthresh_diff_rel\", \"poisson_la_mls_fixedthresh_diff_rel\"]]\n",
    "\n",
    "la_df_amapvox_rel_diffs_static = la_df_amapvox.loc[\"static\", [\"la_t_diff_rel\", \"la_att_fpl_diff_rel\", \"la_att_ppl_diff_rel\"]]\n",
    "la_df_amapvox_rel_diffs_a = la_df_amapvox.loc[\"a\", [\"la_t_diff_rel\", \"la_att_fpl_diff_rel\", \"la_att_ppl_diff_rel\"]]\n",
    "la_df_amapvox_rel_diffs_b = la_df_amapvox.loc[\"b\", [\"la_t_diff_rel\", \"la_att_fpl_diff_rel\", \"la_att_ppl_diff_rel\"]]\n",
    "la_df_amapvox_rel_diffs_c = la_df_amapvox.loc[\"c\", [\"la_t_diff_rel\", \"la_att_fpl_diff_rel\", \"la_att_ppl_diff_rel\"]]"
   ]
  },
  {
   "cell_type": "code",
   "execution_count": 19,
   "id": "bf15b510",
   "metadata": {},
   "outputs": [
    {
     "name": "stdout",
     "output_type": "stream",
     "text": [
      "Differences between leaf area estimates in scenario c and scenario static:\n"
     ]
    },
    {
     "data": {
      "text/plain": [
       "alpha_la_diff                      0.629890\n",
       "alpha_la_mls_diff                  0.413926\n",
       "tri_la_diff                        3.710410\n",
       "tri_la_mls_diff                    0.746601\n",
       "poisson_la_diff                    0.892200\n",
       "poisson_la_mls_diff                0.178499\n",
       "poisson_la_fixedthresh_diff        1.153232\n",
       "poisson_la_mls_fixedthresh_diff    0.221079\n",
       "dtype: float64"
      ]
     },
     "metadata": {},
     "output_type": "display_data"
    },
    {
     "data": {
      "text/plain": [
       "alpha_la_diff                      0.635570\n",
       "alpha_la_mls_diff                  0.432803\n",
       "tri_la_diff                        3.794866\n",
       "tri_la_mls_diff                    0.753757\n",
       "poisson_la_diff                    0.886546\n",
       "poisson_la_mls_diff                0.180623\n",
       "poisson_la_fixedthresh_diff        1.134975\n",
       "poisson_la_mls_fixedthresh_diff    0.191214\n",
       "dtype: float64"
      ]
     },
     "metadata": {},
     "output_type": "display_data"
    },
    {
     "data": {
      "text/plain": [
       "la_t_diff          0.035162\n",
       "la_att_fpl_diff    0.122250\n",
       "la_att_ppl_diff    0.066076\n",
       "dtype: float64"
      ]
     },
     "metadata": {},
     "output_type": "display_data"
    },
    {
     "data": {
      "text/plain": [
       "la_t_diff          0.038129\n",
       "la_att_fpl_diff    0.141531\n",
       "la_att_ppl_diff    0.072505\n",
       "dtype: float64"
      ]
     },
     "metadata": {},
     "output_type": "display_data"
    }
   ],
   "source": [
    "print(\"Differences between leaf area estimates in scenario c and scenario static:\")\n",
    "display(la_df_diffs_c.mean() - la_df_diffs_static.mean())\n",
    "display(la_df_diffs_c.median() - la_df_diffs_static.median())\n",
    "\n",
    "display(la_df_amapvox_diffs_c.mean() - la_df_amapvox_diffs_static.mean())\n",
    "display(la_df_amapvox_diffs_c.median() - la_df_amapvox_diffs_static.median())"
   ]
  },
  {
   "cell_type": "code",
   "execution_count": 29,
   "id": "aac3f19d",
   "metadata": {},
   "outputs": [
    {
     "name": "stdout",
     "output_type": "stream",
     "text": [
      "Differences between leaf area estimates in scenario c and scenario static (in percentage errors):\n"
     ]
    },
    {
     "data": {
      "text/plain": [
       "alpha_la_diff_rel                       66.145858\n",
       "alpha_la_mls_diff_rel                   43.246320\n",
       "tri_la_diff_rel                        381.475732\n",
       "tri_la_mls_diff_rel                     75.694433\n",
       "poisson_la_diff_rel                     92.885121\n",
       "poisson_la_mls_diff_rel                 17.829261\n",
       "poisson_la_fixedthresh_diff_rel        118.071187\n",
       "poisson_la_mls_fixedthresh_diff_rel     21.729150\n",
       "dtype: float64"
      ]
     },
     "metadata": {},
     "output_type": "display_data"
    },
    {
     "data": {
      "text/plain": [
       "alpha_la_diff_rel                       66.193505\n",
       "alpha_la_mls_diff_rel                   47.241586\n",
       "tri_la_diff_rel                        369.857163\n",
       "tri_la_mls_diff_rel                     76.726854\n",
       "poisson_la_diff_rel                     84.672802\n",
       "poisson_la_mls_diff_rel                 18.086258\n",
       "poisson_la_fixedthresh_diff_rel        113.645535\n",
       "poisson_la_mls_fixedthresh_diff_rel     19.425488\n",
       "dtype: float64"
      ]
     },
     "metadata": {},
     "output_type": "display_data"
    },
    {
     "data": {
      "text/plain": [
       "la_t_diff_rel           4.179853\n",
       "la_att_fpl_diff_rel    13.539176\n",
       "la_att_ppl_diff_rel     7.492536\n",
       "dtype: float64"
      ]
     },
     "metadata": {},
     "output_type": "display_data"
    },
    {
     "data": {
      "text/plain": [
       "la_t_diff_rel           4.431297\n",
       "la_att_fpl_diff_rel    13.868834\n",
       "la_att_ppl_diff_rel     7.153742\n",
       "dtype: float64"
      ]
     },
     "metadata": {},
     "output_type": "display_data"
    }
   ],
   "source": [
    "print(\"Differences between leaf area estimates in scenario c and scenario static (in percentage errors):\")\n",
    "display(la_df_rel_diffs_c.mean() - la_df_rel_diffs_static.mean())\n",
    "display(la_df_rel_diffs_c.median() - la_df_rel_diffs_static.median())\n",
    "\n",
    "display(la_df_amapvox_rel_diffs_c.mean() - la_df_amapvox_rel_diffs_static.mean())\n",
    "display(la_df_amapvox_rel_diffs_c.median() - la_df_amapvox_rel_diffs_static.median())"
   ]
  },
  {
   "cell_type": "markdown",
   "id": "b3ec379f",
   "metadata": {},
   "source": [
    "##### Statistical significance"
   ]
  },
  {
   "cell_type": "code",
   "execution_count": 20,
   "id": "b2f7604b",
   "metadata": {},
   "outputs": [
    {
     "name": "stdout",
     "output_type": "stream",
     "text": [
      "Paired t-test between LA_t and true leaf area\n",
      "TtestResult(statistic=-0.49603129427782017, pvalue=0.6217151874557177, df=59)\n",
      "\n",
      "Paired t-test between LA_att_ppl and true leaf area\n",
      "TtestResult(statistic=4.697986523304818, pvalue=1.6159922034684903e-05, df=59)\n",
      "\n",
      "Paired t-test between LA_att_fpl and true leaf area\n",
      "TtestResult(statistic=6.466725862660893, pvalue=2.147403920904983e-08, df=59)\n",
      "\n",
      "Paired t-test between LA_att_fpl and LA_t\n",
      "TtestResult(statistic=29.821433211771147, pvalue=2.8063667359701335e-37, df=59)\n",
      "\n",
      "Paired t-test between LA_att_ppl and LA_t\n",
      "TtestResult(statistic=23.874938336907785, pvalue=5.188113140640624e-32, df=59)\n",
      "\n",
      "Paired t-test between LA_att_ppl and LA_att_fpl\n",
      "TtestResult(statistic=-10.281699261979657, pvalue=8.989165198578833e-15, df=59)\n"
     ]
    }
   ],
   "source": [
    "print(\"Paired t-test between LA_t and true leaf area\")\n",
    "print(ttest_rel(la_df_amapvox[\"la_t\"].to_numpy(), la_df_amapvox[\"leaf_area\"].to_numpy()))\n",
    "print(\"\\nPaired t-test between LA_att_ppl and true leaf area\")\n",
    "print(ttest_rel(la_df_amapvox[\"la_att_ppl\"].to_numpy(), la_df_amapvox[\"leaf_area\"].to_numpy()))\n",
    "print(\"\\nPaired t-test between LA_att_fpl and true leaf area\")\n",
    "print(ttest_rel(la_df_amapvox[\"la_att_fpl\"].to_numpy(), la_df_amapvox[\"leaf_area\"].to_numpy()))\n",
    "print(\"\\nPaired t-test between LA_att_fpl and LA_t\")\n",
    "print(ttest_rel(la_df_amapvox[\"la_att_fpl\"].to_numpy(), la_df_amapvox[\"la_t\"].to_numpy()))\n",
    "print(\"\\nPaired t-test between LA_att_ppl and LA_t\")\n",
    "print(ttest_rel(la_df_amapvox[\"la_att_ppl\"].to_numpy(), la_df_amapvox[\"la_t\"].to_numpy()))\n",
    "print(\"\\nPaired t-test between LA_att_ppl and LA_att_fpl\")\n",
    "print(ttest_rel(la_df_amapvox[\"la_att_ppl\"].to_numpy(), la_df_amapvox[\"la_att_fpl\"].to_numpy()))"
   ]
  },
  {
   "cell_type": "code",
   "execution_count": 21,
   "id": "1aa73226",
   "metadata": {},
   "outputs": [
    {
     "name": "stdout",
     "output_type": "stream",
     "text": [
      "Paired t-test between scenario static and scenario c for the transmittance method\n",
      "TtestResult(statistic=-3.902006244088702, pvalue=0.0015954423778555093, df=14)\n",
      "\n",
      "Paired t-test between scenario static and scenario c for the attenuation method with the PPL estimator\n",
      "TtestResult(statistic=-5.937430278934456, pvalue=3.625426779236029e-05, df=14)\n",
      "\n",
      "Paired t-test between scenario static and scenario c for the attenuation method with the FPL estimator\n",
      "TtestResult(statistic=-9.357208086166649, pvalue=2.1135089287029486e-07, df=14)\n"
     ]
    }
   ],
   "source": [
    "print(\"Paired t-test between scenario static and scenario c for the transmittance method\")\n",
    "print(ttest_rel(la_df_amapvox.loc[\"static\"][\"la_t\"], la_df_amapvox.loc[\"c\"][\"la_t\"]))\n",
    "print(\"\\nPaired t-test between scenario static and scenario c for the attenuation method with the PPL estimator\")\n",
    "print(ttest_rel(la_df_amapvox.loc[\"static\"][\"la_att_ppl\"], la_df_amapvox.loc[\"c\"][\"la_att_ppl\"]))\n",
    "print(\"\\nPaired t-test between scenario static and scenario c for the attenuation method with the FPL estimator\")\n",
    "print(ttest_rel(la_df_amapvox.loc[\"static\"][\"la_att_fpl\"], la_df_amapvox.loc[\"c\"][\"la_att_fpl\"]))"
   ]
  },
  {
   "cell_type": "markdown",
   "id": "091f1404",
   "metadata": {},
   "source": [
    "#### ULS"
   ]
  },
  {
   "cell_type": "code",
   "execution_count": 31,
   "id": "88157b7d",
   "metadata": {},
   "outputs": [],
   "source": [
    "la_df_uls = pd.read_csv(Path(metric_folder) / uls_la_amapvox, sep=\" \")\n",
    "la_df_uls = pd.merge(la_df_uls.reset_index(), la_ref_df, on=[\"tree_id\"]).set_index([\"scenario\", \"tree_id\"])\n",
    "la_df_uls[\"la_t_diff\"] = (la_df_uls[\"la_t\"] - la_df_uls[\"leaf_area\"])\n",
    "la_df_uls[\"la_att_fpl_diff\"] = (la_df_uls[\"la_att_fpl\"] - la_df_uls[\"leaf_area\"])\n",
    "la_df_uls[\"la_att_ppl_diff\"] = (la_df_uls[\"la_att_ppl\"] - la_df_uls[\"leaf_area\"])\n",
    "la_df_uls_diffs_static = la_df_uls.loc[\"static\", [\"la_t_diff\", \"la_att_fpl_diff\", \"la_att_ppl_diff\"]]\n",
    "la_df_uls_diffs_a = la_df_uls.loc[\"a\", [\"la_t_diff\", \"la_att_fpl_diff\", \"la_att_ppl_diff\"]]\n",
    "la_df_uls_diffs_b = la_df_uls.loc[\"b\", [\"la_t_diff\", \"la_att_fpl_diff\", \"la_att_ppl_diff\"]]\n",
    "la_df_uls_diffs_c = la_df_uls.loc[\"c\", [\"la_t_diff\", \"la_att_fpl_diff\", \"la_att_ppl_diff\"]]"
   ]
  },
  {
   "cell_type": "code",
   "execution_count": 32,
   "id": "a749ba03",
   "metadata": {},
   "outputs": [],
   "source": [
    "la_df_uls[\"la_t_diff_rel\"] = (la_df_uls[\"la_t\"] - la_df_uls[\"leaf_area\"]) / la_df_uls[\"leaf_area\"] * 100\n",
    "la_df_uls[\"la_att_fpl_diff_rel\"] = (la_df_uls[\"la_att_fpl\"] - la_df_uls[\"leaf_area\"]) / la_df_uls[\"leaf_area\"] * 100\n",
    "la_df_uls[\"la_att_ppl_diff_rel\"] = (la_df_uls[\"la_att_ppl\"] - la_df_uls[\"leaf_area\"]) / la_df_uls[\"leaf_area\"] * 100"
   ]
  },
  {
   "cell_type": "code",
   "execution_count": 33,
   "id": "d718c381",
   "metadata": {},
   "outputs": [
    {
     "data": {
      "text/html": [
       "<div>\n",
       "<style scoped>\n",
       "    .dataframe tbody tr th:only-of-type {\n",
       "        vertical-align: middle;\n",
       "    }\n",
       "\n",
       "    .dataframe tbody tr th {\n",
       "        vertical-align: top;\n",
       "    }\n",
       "\n",
       "    .dataframe thead th {\n",
       "        text-align: right;\n",
       "    }\n",
       "</style>\n",
       "<table border=\"1\" class=\"dataframe\">\n",
       "  <thead>\n",
       "    <tr style=\"text-align: right;\">\n",
       "      <th></th>\n",
       "      <th>la_t_diff</th>\n",
       "      <th>la_att_fpl_diff</th>\n",
       "      <th>la_att_ppl_diff</th>\n",
       "    </tr>\n",
       "    <tr>\n",
       "      <th>scenario</th>\n",
       "      <th></th>\n",
       "      <th></th>\n",
       "      <th></th>\n",
       "    </tr>\n",
       "  </thead>\n",
       "  <tbody>\n",
       "    <tr>\n",
       "      <th>a</th>\n",
       "      <td>-0.026162</td>\n",
       "      <td>-0.061543</td>\n",
       "      <td>-0.105568</td>\n",
       "    </tr>\n",
       "    <tr>\n",
       "      <th>b</th>\n",
       "      <td>-0.021950</td>\n",
       "      <td>-0.056357</td>\n",
       "      <td>-0.100207</td>\n",
       "    </tr>\n",
       "    <tr>\n",
       "      <th>c</th>\n",
       "      <td>-0.023356</td>\n",
       "      <td>-0.057498</td>\n",
       "      <td>-0.101966</td>\n",
       "    </tr>\n",
       "    <tr>\n",
       "      <th>static</th>\n",
       "      <td>-0.024106</td>\n",
       "      <td>-0.058652</td>\n",
       "      <td>-0.100905</td>\n",
       "    </tr>\n",
       "  </tbody>\n",
       "</table>\n",
       "</div>"
      ],
      "text/plain": [
       "          la_t_diff  la_att_fpl_diff  la_att_ppl_diff\n",
       "scenario                                             \n",
       "a         -0.026162        -0.061543        -0.105568\n",
       "b         -0.021950        -0.056357        -0.100207\n",
       "c         -0.023356        -0.057498        -0.101966\n",
       "static    -0.024106        -0.058652        -0.100905"
      ]
     },
     "metadata": {},
     "output_type": "display_data"
    }
   ],
   "source": [
    "display(la_df_uls[[\"la_t_diff\", \"la_att_fpl_diff\", \"la_att_ppl_diff\"]].groupby(\"scenario\").agg(\"mean\"))"
   ]
  },
  {
   "cell_type": "code",
   "execution_count": 36,
   "id": "32e412aa",
   "metadata": {},
   "outputs": [
    {
     "data": {
      "text/html": [
       "<div>\n",
       "<style scoped>\n",
       "    .dataframe tbody tr th:only-of-type {\n",
       "        vertical-align: middle;\n",
       "    }\n",
       "\n",
       "    .dataframe tbody tr th {\n",
       "        vertical-align: top;\n",
       "    }\n",
       "\n",
       "    .dataframe thead th {\n",
       "        text-align: right;\n",
       "    }\n",
       "</style>\n",
       "<table border=\"1\" class=\"dataframe\">\n",
       "  <thead>\n",
       "    <tr style=\"text-align: right;\">\n",
       "      <th></th>\n",
       "      <th>la_t_diff</th>\n",
       "      <th>la_att_fpl_diff</th>\n",
       "      <th>la_att_ppl_diff</th>\n",
       "    </tr>\n",
       "    <tr>\n",
       "      <th>scenario</th>\n",
       "      <th></th>\n",
       "      <th></th>\n",
       "      <th></th>\n",
       "    </tr>\n",
       "  </thead>\n",
       "  <tbody>\n",
       "    <tr>\n",
       "      <th>a</th>\n",
       "      <td>-0.000728</td>\n",
       "      <td>-0.024607</td>\n",
       "      <td>-0.065852</td>\n",
       "    </tr>\n",
       "    <tr>\n",
       "      <th>b</th>\n",
       "      <td>0.016559</td>\n",
       "      <td>-0.015311</td>\n",
       "      <td>-0.048146</td>\n",
       "    </tr>\n",
       "    <tr>\n",
       "      <th>c</th>\n",
       "      <td>0.018324</td>\n",
       "      <td>-0.015357</td>\n",
       "      <td>-0.053831</td>\n",
       "    </tr>\n",
       "    <tr>\n",
       "      <th>static</th>\n",
       "      <td>0.020488</td>\n",
       "      <td>-0.012349</td>\n",
       "      <td>-0.033631</td>\n",
       "    </tr>\n",
       "  </tbody>\n",
       "</table>\n",
       "</div>"
      ],
      "text/plain": [
       "          la_t_diff  la_att_fpl_diff  la_att_ppl_diff\n",
       "scenario                                             \n",
       "a         -0.000728        -0.024607        -0.065852\n",
       "b          0.016559        -0.015311        -0.048146\n",
       "c          0.018324        -0.015357        -0.053831\n",
       "static     0.020488        -0.012349        -0.033631"
      ]
     },
     "metadata": {},
     "output_type": "display_data"
    }
   ],
   "source": [
    "display(la_df_uls[[\"la_t_diff\", \"la_att_fpl_diff\", \"la_att_ppl_diff\"]].groupby(\"scenario\").agg(\"median\"))"
   ]
  },
  {
   "cell_type": "code",
   "execution_count": 34,
   "id": "ab4e8938",
   "metadata": {},
   "outputs": [
    {
     "data": {
      "text/html": [
       "<div>\n",
       "<style scoped>\n",
       "    .dataframe tbody tr th:only-of-type {\n",
       "        vertical-align: middle;\n",
       "    }\n",
       "\n",
       "    .dataframe tbody tr th {\n",
       "        vertical-align: top;\n",
       "    }\n",
       "\n",
       "    .dataframe thead th {\n",
       "        text-align: right;\n",
       "    }\n",
       "</style>\n",
       "<table border=\"1\" class=\"dataframe\">\n",
       "  <thead>\n",
       "    <tr style=\"text-align: right;\">\n",
       "      <th></th>\n",
       "      <th>la_t_diff_rel</th>\n",
       "      <th>la_att_fpl_diff_rel</th>\n",
       "      <th>la_att_ppl_diff_rel</th>\n",
       "    </tr>\n",
       "    <tr>\n",
       "      <th>scenario</th>\n",
       "      <th></th>\n",
       "      <th></th>\n",
       "      <th></th>\n",
       "    </tr>\n",
       "  </thead>\n",
       "  <tbody>\n",
       "    <tr>\n",
       "      <th>a</th>\n",
       "      <td>4.352531</td>\n",
       "      <td>0.514195</td>\n",
       "      <td>-3.683151</td>\n",
       "    </tr>\n",
       "    <tr>\n",
       "      <th>b</th>\n",
       "      <td>4.957244</td>\n",
       "      <td>1.241539</td>\n",
       "      <td>-3.037846</td>\n",
       "    </tr>\n",
       "    <tr>\n",
       "      <th>c</th>\n",
       "      <td>4.716347</td>\n",
       "      <td>1.023262</td>\n",
       "      <td>-3.333925</td>\n",
       "    </tr>\n",
       "    <tr>\n",
       "      <th>static</th>\n",
       "      <td>4.493182</td>\n",
       "      <td>0.785197</td>\n",
       "      <td>-3.249571</td>\n",
       "    </tr>\n",
       "  </tbody>\n",
       "</table>\n",
       "</div>"
      ],
      "text/plain": [
       "          la_t_diff_rel  la_att_fpl_diff_rel  la_att_ppl_diff_rel\n",
       "scenario                                                         \n",
       "a              4.352531             0.514195            -3.683151\n",
       "b              4.957244             1.241539            -3.037846\n",
       "c              4.716347             1.023262            -3.333925\n",
       "static         4.493182             0.785197            -3.249571"
      ]
     },
     "metadata": {},
     "output_type": "display_data"
    }
   ],
   "source": [
    "display(la_df_uls[[\"la_t_diff_rel\", \"la_att_fpl_diff_rel\", \"la_att_ppl_diff_rel\"]].groupby(\"scenario\").agg(\"mean\"))"
   ]
  },
  {
   "cell_type": "code",
   "execution_count": 35,
   "id": "0edc6e86",
   "metadata": {},
   "outputs": [
    {
     "data": {
      "text/html": [
       "<div>\n",
       "<style scoped>\n",
       "    .dataframe tbody tr th:only-of-type {\n",
       "        vertical-align: middle;\n",
       "    }\n",
       "\n",
       "    .dataframe tbody tr th {\n",
       "        vertical-align: top;\n",
       "    }\n",
       "\n",
       "    .dataframe thead th {\n",
       "        text-align: right;\n",
       "    }\n",
       "</style>\n",
       "<table border=\"1\" class=\"dataframe\">\n",
       "  <thead>\n",
       "    <tr style=\"text-align: right;\">\n",
       "      <th></th>\n",
       "      <th>la_t_diff_rel</th>\n",
       "      <th>la_att_fpl_diff_rel</th>\n",
       "      <th>la_att_ppl_diff_rel</th>\n",
       "    </tr>\n",
       "    <tr>\n",
       "      <th>scenario</th>\n",
       "      <th></th>\n",
       "      <th></th>\n",
       "      <th></th>\n",
       "    </tr>\n",
       "  </thead>\n",
       "  <tbody>\n",
       "    <tr>\n",
       "      <th>a</th>\n",
       "      <td>-0.082364</td>\n",
       "      <td>-2.783584</td>\n",
       "      <td>-7.764986</td>\n",
       "    </tr>\n",
       "    <tr>\n",
       "      <th>b</th>\n",
       "      <td>1.593106</td>\n",
       "      <td>-1.536022</td>\n",
       "      <td>-5.183087</td>\n",
       "    </tr>\n",
       "    <tr>\n",
       "      <th>c</th>\n",
       "      <td>1.762924</td>\n",
       "      <td>-1.323857</td>\n",
       "      <td>-7.085042</td>\n",
       "    </tr>\n",
       "    <tr>\n",
       "      <th>static</th>\n",
       "      <td>2.042830</td>\n",
       "      <td>-1.231298</td>\n",
       "      <td>-3.804410</td>\n",
       "    </tr>\n",
       "  </tbody>\n",
       "</table>\n",
       "</div>"
      ],
      "text/plain": [
       "          la_t_diff_rel  la_att_fpl_diff_rel  la_att_ppl_diff_rel\n",
       "scenario                                                         \n",
       "a             -0.082364            -2.783584            -7.764986\n",
       "b              1.593106            -1.536022            -5.183087\n",
       "c              1.762924            -1.323857            -7.085042\n",
       "static         2.042830            -1.231298            -3.804410"
      ]
     },
     "metadata": {},
     "output_type": "display_data"
    }
   ],
   "source": [
    "display(la_df_uls[[\"la_t_diff_rel\", \"la_att_fpl_diff_rel\", \"la_att_ppl_diff_rel\"]].groupby(\"scenario\").agg(\"median\"))"
   ]
  },
  {
   "cell_type": "code",
   "execution_count": 24,
   "id": "201d6c2f",
   "metadata": {},
   "outputs": [
    {
     "data": {
      "text/html": [
       "<div>\n",
       "<style scoped>\n",
       "    .dataframe tbody tr th:only-of-type {\n",
       "        vertical-align: middle;\n",
       "    }\n",
       "\n",
       "    .dataframe tbody tr th {\n",
       "        vertical-align: top;\n",
       "    }\n",
       "\n",
       "    .dataframe thead th {\n",
       "        text-align: right;\n",
       "    }\n",
       "</style>\n",
       "<table border=\"1\" class=\"dataframe\">\n",
       "  <thead>\n",
       "    <tr style=\"text-align: right;\">\n",
       "      <th></th>\n",
       "      <th>la_t_diff</th>\n",
       "      <th>la_att_fpl_diff</th>\n",
       "      <th>la_att_ppl_diff</th>\n",
       "    </tr>\n",
       "    <tr>\n",
       "      <th>scenario</th>\n",
       "      <th></th>\n",
       "      <th></th>\n",
       "      <th></th>\n",
       "    </tr>\n",
       "  </thead>\n",
       "  <tbody>\n",
       "    <tr>\n",
       "      <th>a</th>\n",
       "      <td>-0.000728</td>\n",
       "      <td>-0.024607</td>\n",
       "      <td>-0.065852</td>\n",
       "    </tr>\n",
       "    <tr>\n",
       "      <th>b</th>\n",
       "      <td>0.016559</td>\n",
       "      <td>-0.015311</td>\n",
       "      <td>-0.048146</td>\n",
       "    </tr>\n",
       "    <tr>\n",
       "      <th>c</th>\n",
       "      <td>0.018324</td>\n",
       "      <td>-0.015357</td>\n",
       "      <td>-0.053831</td>\n",
       "    </tr>\n",
       "    <tr>\n",
       "      <th>static</th>\n",
       "      <td>0.020488</td>\n",
       "      <td>-0.012349</td>\n",
       "      <td>-0.033631</td>\n",
       "    </tr>\n",
       "  </tbody>\n",
       "</table>\n",
       "</div>"
      ],
      "text/plain": [
       "          la_t_diff  la_att_fpl_diff  la_att_ppl_diff\n",
       "scenario                                             \n",
       "a         -0.000728        -0.024607        -0.065852\n",
       "b          0.016559        -0.015311        -0.048146\n",
       "c          0.018324        -0.015357        -0.053831\n",
       "static     0.020488        -0.012349        -0.033631"
      ]
     },
     "metadata": {},
     "output_type": "display_data"
    }
   ],
   "source": [
    "display(la_df_uls[[\"la_t_diff\", \"la_att_fpl_diff\", \"la_att_ppl_diff\"]].groupby(\"scenario\").agg(\"median\"))"
   ]
  },
  {
   "cell_type": "code",
   "execution_count": 25,
   "id": "6c58c09c",
   "metadata": {},
   "outputs": [
    {
     "data": {
      "text/plain": [
       "la_t_diff          0.000750\n",
       "la_att_fpl_diff    0.001154\n",
       "la_att_ppl_diff   -0.001061\n",
       "dtype: float64"
      ]
     },
     "metadata": {},
     "output_type": "display_data"
    }
   ],
   "source": [
    "display(la_df_uls_diffs_c.mean() - la_df_uls_diffs_static.mean())"
   ]
  },
  {
   "cell_type": "markdown",
   "id": "4f664d78",
   "metadata": {},
   "source": [
    "##### Statistical significance"
   ]
  },
  {
   "cell_type": "code",
   "execution_count": 26,
   "id": "4b6a80c9",
   "metadata": {},
   "outputs": [
    {
     "name": "stdout",
     "output_type": "stream",
     "text": [
      "Paired t-test between LA_t and true leaf area\n",
      "TtestResult(statistic=-0.6642786456555395, pvalue=0.5090998692501556, df=59)\n",
      "\n",
      "Paired t-test between LA_att_ppl and true leaf area\n",
      "TtestResult(statistic=-2.7045952916682148, pvalue=0.008923489695730884, df=59)\n",
      "\n",
      "Paired t-test between LA_att_fpl and true leaf area\n",
      "TtestResult(statistic=-1.6659171571029097, pvalue=0.10103129609636771, df=59)\n",
      "\n",
      "Paired t-test between LA_att_fpl and LA_t\n",
      "TtestResult(statistic=-15.40368737206208, pvalue=2.434082112336339e-22, df=59)\n",
      "\n",
      "Paired t-test between LA_att_ppl and LA_t\n",
      "TtestResult(statistic=-22.317819779540688, pvalue=1.8775554416197495e-30, df=59)\n",
      "\n",
      "Paired t-test between LA_att_ppl and LA_att_fpl\n",
      "TtestResult(statistic=-9.33489777401555, pvalue=3.1744574852223325e-13, df=59)\n"
     ]
    }
   ],
   "source": [
    "print(\"Paired t-test between LA_t and true leaf area\")\n",
    "print(ttest_rel(la_df_uls[\"la_t\"].to_numpy(), la_df_uls[\"leaf_area\"].to_numpy()))\n",
    "print(\"\\nPaired t-test between LA_att_ppl and true leaf area\")\n",
    "print(ttest_rel(la_df_uls[\"la_att_ppl\"].to_numpy(), la_df_uls[\"leaf_area\"].to_numpy()))\n",
    "print(\"\\nPaired t-test between LA_att_fpl and true leaf area\")\n",
    "print(ttest_rel(la_df_uls[\"la_att_fpl\"].to_numpy(), la_df_uls[\"leaf_area\"].to_numpy()))\n",
    "print(\"\\nPaired t-test between LA_att_fpl and LA_t\")\n",
    "print(ttest_rel(la_df_uls[\"la_att_fpl\"].to_numpy(), la_df_uls[\"la_t\"].to_numpy()))\n",
    "print(\"\\nPaired t-test between LA_att_ppl and LA_t\")\n",
    "print(ttest_rel(la_df_uls[\"la_att_ppl\"].to_numpy(), la_df_uls[\"la_t\"].to_numpy()))\n",
    "print(\"\\nPaired t-test between LA_att_ppl and LA_att_fpl\")\n",
    "print(ttest_rel(la_df_uls[\"la_att_ppl\"].to_numpy(), la_df_uls[\"la_att_fpl\"].to_numpy()))"
   ]
  },
  {
   "cell_type": "code",
   "execution_count": 27,
   "id": "5e1a2776",
   "metadata": {},
   "outputs": [
    {
     "name": "stdout",
     "output_type": "stream",
     "text": [
      "Paired t-test between scenario static and scenario c for the transmittance method\n",
      "TtestResult(statistic=-0.1457488356608335, pvalue=0.8861973781647904, df=14)\n",
      "\n",
      "Paired t-test between scenario static and scenario c for the attenuation method with the PPL estimator\n",
      "TtestResult(statistic=0.14500488824118238, pvalue=0.8867739059030606, df=14)\n",
      "\n",
      "Paired t-test between scenario static and scenario c for the attenuation method with the FPL estimator\n",
      "TtestResult(statistic=-0.23279746054440842, pvalue=0.8192876979008342, df=14)\n"
     ]
    }
   ],
   "source": [
    "print(\"Paired t-test between scenario static and scenario c for the transmittance method\")\n",
    "print(ttest_rel(la_df_uls.loc[\"static\"][\"la_t\"], la_df_uls.loc[\"c\"][\"la_t\"]))\n",
    "print(\"\\nPaired t-test between scenario static and scenario c for the attenuation method with the PPL estimator\")\n",
    "print(ttest_rel(la_df_uls.loc[\"static\"][\"la_att_ppl\"], la_df_uls.loc[\"c\"][\"la_att_ppl\"]))\n",
    "print(\"\\nPaired t-test between scenario static and scenario c for the attenuation method with the FPL estimator\")\n",
    "print(ttest_rel(la_df_uls.loc[\"static\"][\"la_att_fpl\"], la_df_uls.loc[\"c\"][\"la_att_fpl\"]))"
   ]
  },
  {
   "cell_type": "markdown",
   "id": "e54aff20",
   "metadata": {},
   "source": [
    "### Geometric features\n",
    "#### NoData values"
   ]
  },
  {
   "cell_type": "code",
   "execution_count": 28,
   "id": "afdab5f8",
   "metadata": {},
   "outputs": [],
   "source": [
    "gf_dir = Path(metric_folder) / \"geomfeats\"\n",
    "# pre mls\n",
    "a_vs1 = list(Path(gf_dir).glob(\"a_*_1_gf.pkl\"))\n",
    "a_vs5 = list(Path(gf_dir).glob(\"a_*_5_gf.pkl\"))\n",
    "b_vs1 = list(Path(gf_dir).glob(\"b_*_1_gf.pkl\"))\n",
    "b_vs5 = list(Path(gf_dir).glob(\"b_*_5_gf.pkl\"))\n",
    "c_vs1 = list(Path(gf_dir).glob(\"c_*_1_gf.pkl\"))\n",
    "c_vs5 = list(Path(gf_dir).glob(\"c_*_5_gf.pkl\"))\n",
    "static_vs1 = list(Path(gf_dir).glob(\"static_*_1_gf.pkl\"))\n",
    "static_vs5 = list(Path(gf_dir).glob(\"static_*_5_gf.pkl\"))\n",
    "\n",
    "# wood\n",
    "wood_static_vs1 = list(Path(gf_dir).glob(\"static_*_1_wood_gf.pkl\"))\n",
    "wood_static_vs5 = list(Path(gf_dir).glob(\"static_*_5_wood_gf.pkl\"))\n",
    "\n",
    "# post mls\n",
    "a_vs1_mls = list(Path(gf_dir).glob(\"a_*_1_gf_mls.pkl\"))\n",
    "a_vs5_mls = list(Path(gf_dir).glob(\"a_*_5_gf_mls.pkl\"))\n",
    "b_vs1_mls = list(Path(gf_dir).glob(\"b_*_1_gf_mls.pkl\"))\n",
    "b_vs5_mls = list(Path(gf_dir).glob(\"b_*_5_gf_mls.pkl\"))\n",
    "c_vs1_mls = list(Path(gf_dir).glob(\"c_*_1_gf_mls.pkl\"))\n",
    "c_vs5_mls = list(Path(gf_dir).glob(\"c_*_5_gf_mls.pkl\"))\n",
    "static_vs1_mls = list(Path(gf_dir).glob(\"static_*_1_gf_mls.pkl\"))\n",
    "static_vs5_mls = list(Path(gf_dir).glob(\"static_*_5_gf_mls.pkl\"))\n",
    "\n",
    "def create_geomfeats_df_dict(combinations, names):\n",
    "    df_dict = {}\n",
    "    for combo, name in zip(combinations, names):\n",
    "        all_dfs = []\n",
    "        n_trees = len(combo)\n",
    "        for f in combo:\n",
    "            df = pd.read_pickle(f)\n",
    "            all_dfs.append(df)\n",
    "        df_dict[name] = pd.concat(all_dfs, ignore_index=True)\n",
    "\n",
    "    return df_dict"
   ]
  },
  {
   "cell_type": "code",
   "execution_count": 29,
   "id": "8e78203a",
   "metadata": {},
   "outputs": [],
   "source": [
    "names_l = [\"a_vs1\", \"a_vs5\", \"b_vs1\", \"b_vs5\", \"c_vs1\", \"c_vs5\", \"static_vs1\", \"static_vs5\"]\n",
    "merged_df_dict = create_geomfeats_df_dict(combinations=[a_vs1, a_vs5, b_vs1, b_vs5,\n",
    "                                                        c_vs1, c_vs5, static_vs1, static_vs5],\n",
    "                                          names=names_l)\n",
    "merged_mls_df_dict = create_geomfeats_df_dict(combinations = [a_vs1_mls, a_vs5_mls, b_vs1_mls, b_vs5_mls,\n",
    "                                                              c_vs1_mls, c_vs5_mls, static_vs1_mls, static_vs5_mls],\n",
    "                                              names=names_l)\n",
    "names_w = [\"wood_static_vs1\", \"wood_static_vs5\"]\n",
    "merged_wood_df_dict = create_geomfeats_df_dict(combinations=[wood_static_vs1, wood_static_vs5],\n",
    "                                               names=names_w)"
   ]
  },
  {
   "cell_type": "markdown",
   "id": "c8f89477",
   "metadata": {},
   "source": [
    "#### NoData values\n",
    "\n",
    "a) Before filtering"
   ]
  },
  {
   "cell_type": "code",
   "execution_count": 30,
   "id": "3261fa66",
   "metadata": {},
   "outputs": [
    {
     "name": "stdout",
     "output_type": "stream",
     "text": [
      "Voxel size = 1 cm, Planarity\n",
      "\n",
      "NoData values in static scenario: 14147 = 0.28%\n",
      "NoData values in scenario a: 14487 = 0.27%\n",
      "NoData values in scenario b: 14416 = 0.27%\n",
      "NoData values in scenario c: 15445 = 0.29%\n"
     ]
    }
   ],
   "source": [
    "print(\"Voxel size = 1 cm, Planarity\\n\")\n",
    "print(f'NoData values in static scenario: {merged_df_dict[\"static_vs1\"][\"planarity\"].isna().sum().sum()} \\\n",
    "= {(merged_df_dict[\"static_vs1\"][\"planarity\"].isna().sum().sum() / len(merged_df_dict[\"static_vs1\"].index)*100):.2f}%')\n",
    "print(f'NoData values in scenario a: {merged_df_dict[\"a_vs1\"][\"planarity\"].isna().sum().sum()} \\\n",
    "= {(merged_df_dict[\"a_vs1\"][\"planarity\"].isna().sum().sum() / len(merged_df_dict[\"a_vs1\"].index)*100):.2f}%')\n",
    "print(f'NoData values in scenario b: {merged_df_dict[\"b_vs1\"][\"planarity\"].isna().sum().sum()} \\\n",
    "= {(merged_df_dict[\"b_vs1\"][\"planarity\"].isna().sum().sum() / len(merged_df_dict[\"b_vs1\"].index)*100):.2f}%')\n",
    "print(f'NoData values in scenario c: {merged_df_dict[\"c_vs1\"][\"planarity\"].isna().sum().sum()} \\\n",
    "= {(merged_df_dict[\"c_vs1\"][\"planarity\"].isna().sum().sum() / len(merged_df_dict[\"b_vs1\"].index)*100):.2f}%')"
   ]
  },
  {
   "cell_type": "code",
   "execution_count": 31,
   "id": "26885691",
   "metadata": {},
   "outputs": [
    {
     "name": "stdout",
     "output_type": "stream",
     "text": [
      "Voxel size = 5 cm, Planarity\n",
      "\n",
      "NoData values in static scenario: 252 = 0.0049%\n",
      "NoData values in scenario a: 223 = 0.0042%\n",
      "NoData values in scenario b: 214 = 0.0040%\n",
      "NoData values in scenario c: 200 = 0.0037%\n"
     ]
    }
   ],
   "source": [
    "print(\"Voxel size = 5 cm, Planarity\\n\")\n",
    "print(f'NoData values in static scenario: {merged_df_dict[\"static_vs5\"][\"planarity\"].isna().sum().sum()} \\\n",
    "= {(merged_df_dict[\"static_vs5\"][\"planarity\"].isna().sum().sum() / len(merged_df_dict[\"static_vs5\"].index)*100):.4f}%')\n",
    "print(f'NoData values in scenario a: {merged_df_dict[\"a_vs5\"][\"planarity\"].isna().sum().sum()} \\\n",
    "= {(merged_df_dict[\"a_vs5\"][\"planarity\"].isna().sum().sum() / len(merged_df_dict[\"a_vs5\"].index)*100):.4f}%')\n",
    "print(f'NoData values in scenario b: {merged_df_dict[\"b_vs5\"][\"planarity\"].isna().sum().sum()} \\\n",
    "= {(merged_df_dict[\"b_vs5\"][\"planarity\"].isna().sum().sum() / len(merged_df_dict[\"b_vs5\"].index)*100):.4f}%')\n",
    "print(f'NoData values in scenario c: {merged_df_dict[\"c_vs5\"][\"planarity\"].isna().sum().sum()} \\\n",
    "= {(merged_df_dict[\"c_vs5\"][\"planarity\"].isna().sum().sum() / len(merged_df_dict[\"b_vs5\"].index)*100):.4f}%')"
   ]
  },
  {
   "cell_type": "markdown",
   "id": "cebea57d",
   "metadata": {},
   "source": [
    "b) After filtering"
   ]
  },
  {
   "cell_type": "code",
   "execution_count": 32,
   "id": "b06ed35b",
   "metadata": {},
   "outputs": [
    {
     "name": "stdout",
     "output_type": "stream",
     "text": [
      "Voxel size = 1 cm, Planarity\n",
      "\n",
      "NoData values in static scenario: 205 = 0.0042%\n",
      "NoData values in scenario a: 281 = 0.0056%\n",
      "NoData values in scenario b: 367 = 0.0073%\n",
      "NoData values in scenario c: 658 = 0.0131%\n"
     ]
    }
   ],
   "source": [
    "print(\"Voxel size = 1 cm, Planarity\\n\")\n",
    "print(f'NoData values in static scenario: {merged_mls_df_dict[\"static_vs1\"][\"planarity\"].isna().sum().sum()} \\\n",
    "= {(merged_mls_df_dict[\"static_vs1\"][\"planarity\"].isna().sum().sum() / len(merged_mls_df_dict[\"static_vs1\"].index)*100):.4f}%')\n",
    "print(f'NoData values in scenario a: {merged_mls_df_dict[\"a_vs1\"][\"planarity\"].isna().sum().sum()} \\\n",
    "= {(merged_mls_df_dict[\"a_vs1\"][\"planarity\"].isna().sum().sum() / len(merged_mls_df_dict[\"a_vs1\"].index)*100):.4f}%')\n",
    "print(f'NoData values in scenario b: {merged_mls_df_dict[\"b_vs1\"][\"planarity\"].isna().sum().sum()} \\\n",
    "= {(merged_mls_df_dict[\"b_vs1\"][\"planarity\"].isna().sum().sum() / len(merged_mls_df_dict[\"b_vs1\"].index)*100):.4f}%')\n",
    "print(f'NoData values in scenario c: {merged_mls_df_dict[\"c_vs1\"][\"planarity\"].isna().sum().sum()} \\\n",
    "= {(merged_mls_df_dict[\"c_vs1\"][\"planarity\"].isna().sum().sum() / len(merged_mls_df_dict[\"b_vs1\"].index)*100):.4f}%')"
   ]
  },
  {
   "cell_type": "code",
   "execution_count": 33,
   "id": "d83fe6bb",
   "metadata": {
    "scrolled": true
   },
   "outputs": [
    {
     "name": "stdout",
     "output_type": "stream",
     "text": [
      "Voxel size = 5 cm, Planarity\n",
      "\n",
      "NoData values in static scenario: 2 = 0.000041%\n",
      "NoData values in scenario a: 4 = 0.000080%\n",
      "NoData values in scenario b: 7 = 0.000140%\n",
      "NoData values in scenario c: 5 = 0.000100%\n"
     ]
    }
   ],
   "source": [
    "print(\"Voxel size = 5 cm, Planarity\\n\")\n",
    "print(f'NoData values in static scenario: {merged_mls_df_dict[\"static_vs5\"][\"planarity\"].isna().sum().sum()} \\\n",
    "= {(merged_mls_df_dict[\"static_vs5\"][\"planarity\"].isna().sum().sum() / len(merged_mls_df_dict[\"static_vs5\"].index)*100):.6f}%')\n",
    "print(f'NoData values in scenario a: {merged_mls_df_dict[\"a_vs5\"][\"planarity\"].isna().sum().sum()} \\\n",
    "= {(merged_mls_df_dict[\"a_vs5\"][\"planarity\"].isna().sum().sum() / len(merged_mls_df_dict[\"a_vs5\"].index)*100):.6f}%')\n",
    "print(f'NoData values in scenario b: {merged_mls_df_dict[\"b_vs5\"][\"planarity\"].isna().sum().sum()} \\\n",
    "= {(merged_mls_df_dict[\"b_vs5\"][\"planarity\"].isna().sum().sum() / len(merged_mls_df_dict[\"b_vs5\"].index)*100):.6f}%')\n",
    "print(f'NoData values in scenario c: {merged_mls_df_dict[\"c_vs5\"][\"planarity\"].isna().sum().sum()} \\\n",
    "= {(merged_mls_df_dict[\"c_vs5\"][\"planarity\"].isna().sum().sum() / len(merged_mls_df_dict[\"b_vs5\"].index)*100):.6f}%')"
   ]
  },
  {
   "cell_type": "markdown",
   "id": "9a1add41",
   "metadata": {},
   "source": [
    "### Significance Tests"
   ]
  },
  {
   "cell_type": "code",
   "execution_count": null,
   "id": "9294e57f",
   "metadata": {},
   "outputs": [],
   "source": []
  },
  {
   "cell_type": "markdown",
   "id": "d4ee8d72",
   "metadata": {},
   "source": [
    "### Real Trees"
   ]
  },
  {
   "cell_type": "markdown",
   "id": "3d8832fe",
   "metadata": {},
   "source": [
    "#### LA metrics and voxel metrics"
   ]
  },
  {
   "cell_type": "code",
   "execution_count": 34,
   "id": "89fb41c8",
   "metadata": {},
   "outputs": [],
   "source": [
    "metric_folder = \"H:/movingtree_b2h/data/metrics\"\n",
    "\n",
    "real_la = Path(metric_folder) / \"2022-05-11_TLS_tree4_t_filtered_classified_lai.pkl\"\n",
    "real_la_mls = Path(metric_folder) / \"2022-05-11_TLS_tree4_t_filtered_classified_lai_mls.pkl\"\n",
    "real_la_tri = Path(metric_folder) / \"leaf_areas_real_tri.txt\"\n",
    "real_vox = Path(metric_folder) / \"2022-05-11_TLS_tree4_t_filtered_classified_vox.pkl\"\n",
    "real_vox_mls = Path(metric_folder) / \"2022-05-11_TLS_tree4_t_filtered_classified_vox_mls.pkl\""
   ]
  },
  {
   "cell_type": "code",
   "execution_count": 35,
   "id": "8815cd83",
   "metadata": {},
   "outputs": [],
   "source": [
    "real_la_df = pd.read_pickle(real_la)\n",
    "real_la_mls_df = pd.read_pickle(real_la_mls)"
   ]
  },
  {
   "cell_type": "code",
   "execution_count": 36,
   "id": "3d323859",
   "metadata": {},
   "outputs": [
    {
     "data": {
      "text/html": [
       "<div>\n",
       "<style scoped>\n",
       "    .dataframe tbody tr th:only-of-type {\n",
       "        vertical-align: middle;\n",
       "    }\n",
       "\n",
       "    .dataframe tbody tr th {\n",
       "        vertical-align: top;\n",
       "    }\n",
       "\n",
       "    .dataframe thead th {\n",
       "        text-align: right;\n",
       "    }\n",
       "</style>\n",
       "<table border=\"1\" class=\"dataframe\">\n",
       "  <thead>\n",
       "    <tr style=\"text-align: right;\">\n",
       "      <th></th>\n",
       "      <th>alpha_leaf_area</th>\n",
       "      <th>poisson_leaf_area</th>\n",
       "    </tr>\n",
       "  </thead>\n",
       "  <tbody>\n",
       "    <tr>\n",
       "      <th>0</th>\n",
       "      <td>1.721</td>\n",
       "      <td>2.413</td>\n",
       "    </tr>\n",
       "  </tbody>\n",
       "</table>\n",
       "</div>"
      ],
      "text/plain": [
       "   alpha_leaf_area  poisson_leaf_area\n",
       "0            1.721              2.413"
      ]
     },
     "execution_count": 36,
     "metadata": {},
     "output_type": "execute_result"
    }
   ],
   "source": [
    "real_la_df[[\"alpha_leaf_area\", \"poisson_leaf_area\"]].round(decimals=3)"
   ]
  },
  {
   "cell_type": "code",
   "execution_count": 37,
   "id": "e849cfe3",
   "metadata": {},
   "outputs": [
    {
     "data": {
      "text/html": [
       "<div>\n",
       "<style scoped>\n",
       "    .dataframe tbody tr th:only-of-type {\n",
       "        vertical-align: middle;\n",
       "    }\n",
       "\n",
       "    .dataframe tbody tr th {\n",
       "        vertical-align: top;\n",
       "    }\n",
       "\n",
       "    .dataframe thead th {\n",
       "        text-align: right;\n",
       "    }\n",
       "</style>\n",
       "<table border=\"1\" class=\"dataframe\">\n",
       "  <thead>\n",
       "    <tr style=\"text-align: right;\">\n",
       "      <th></th>\n",
       "      <th>alpha_leaf_area</th>\n",
       "      <th>poisson_leaf_area</th>\n",
       "    </tr>\n",
       "  </thead>\n",
       "  <tbody>\n",
       "    <tr>\n",
       "      <th>0</th>\n",
       "      <td>1.044</td>\n",
       "      <td>0.955</td>\n",
       "    </tr>\n",
       "  </tbody>\n",
       "</table>\n",
       "</div>"
      ],
      "text/plain": [
       "   alpha_leaf_area  poisson_leaf_area\n",
       "0            1.044              0.955"
      ]
     },
     "execution_count": 37,
     "metadata": {},
     "output_type": "execute_result"
    }
   ],
   "source": [
    "real_la_mls_df[[\"alpha_leaf_area\", \"poisson_leaf_area\"]].round(decimals=3)"
   ]
  },
  {
   "cell_type": "code",
   "execution_count": 38,
   "id": "59cfbfb6",
   "metadata": {},
   "outputs": [
    {
     "name": "stdout",
     "output_type": "stream",
     "text": [
      "Difference between LA estimated from unfiltered and filtered point clouds\n"
     ]
    },
    {
     "data": {
      "text/html": [
       "<div>\n",
       "<style scoped>\n",
       "    .dataframe tbody tr th:only-of-type {\n",
       "        vertical-align: middle;\n",
       "    }\n",
       "\n",
       "    .dataframe tbody tr th {\n",
       "        vertical-align: top;\n",
       "    }\n",
       "\n",
       "    .dataframe thead th {\n",
       "        text-align: right;\n",
       "    }\n",
       "</style>\n",
       "<table border=\"1\" class=\"dataframe\">\n",
       "  <thead>\n",
       "    <tr style=\"text-align: right;\">\n",
       "      <th></th>\n",
       "      <th>alpha_leaf_area</th>\n",
       "      <th>poisson_leaf_area</th>\n",
       "    </tr>\n",
       "  </thead>\n",
       "  <tbody>\n",
       "    <tr>\n",
       "      <th>0</th>\n",
       "      <td>0.677</td>\n",
       "      <td>1.458</td>\n",
       "    </tr>\n",
       "  </tbody>\n",
       "</table>\n",
       "</div>"
      ],
      "text/plain": [
       "   alpha_leaf_area  poisson_leaf_area\n",
       "0            0.677              1.458"
      ]
     },
     "metadata": {},
     "output_type": "display_data"
    }
   ],
   "source": [
    "print(\"Difference between LA estimated from unfiltered and filtered point clouds\")\n",
    "display((real_la_df[[\"alpha_leaf_area\", \"poisson_leaf_area\"]] - real_la_mls_df[[\"alpha_leaf_area\", \"poisson_leaf_area\"]]).round(decimals=3))"
   ]
  },
  {
   "cell_type": "code",
   "execution_count": 39,
   "id": "e5939dea",
   "metadata": {},
   "outputs": [
    {
     "data": {
      "text/html": [
       "<div>\n",
       "<style scoped>\n",
       "    .dataframe tbody tr th:only-of-type {\n",
       "        vertical-align: middle;\n",
       "    }\n",
       "\n",
       "    .dataframe tbody tr th {\n",
       "        vertical-align: top;\n",
       "    }\n",
       "\n",
       "    .dataframe thead th {\n",
       "        text-align: right;\n",
       "    }\n",
       "</style>\n",
       "<table border=\"1\" class=\"dataframe\">\n",
       "  <thead>\n",
       "    <tr style=\"text-align: right;\">\n",
       "      <th></th>\n",
       "      <th>tree_id</th>\n",
       "      <th>la_tri</th>\n",
       "      <th>la_tri_mls</th>\n",
       "    </tr>\n",
       "  </thead>\n",
       "  <tbody>\n",
       "    <tr>\n",
       "      <th>0</th>\n",
       "      <td>2022-05-11_TLS_tree4</td>\n",
       "      <td>10.575</td>\n",
       "      <td>1.842</td>\n",
       "    </tr>\n",
       "  </tbody>\n",
       "</table>\n",
       "</div>"
      ],
      "text/plain": [
       "                tree_id  la_tri  la_tri_mls\n",
       "0  2022-05-11_TLS_tree4  10.575       1.842"
      ]
     },
     "execution_count": 39,
     "metadata": {},
     "output_type": "execute_result"
    }
   ],
   "source": [
    "real_la_tri_df = pd.read_csv(real_la_tri, sep=\" \")\n",
    "real_la_tri_df.round(decimals=3)"
   ]
  },
  {
   "cell_type": "code",
   "execution_count": 40,
   "id": "fbd80da4",
   "metadata": {},
   "outputs": [
    {
     "name": "stdout",
     "output_type": "stream",
     "text": [
      "Difference between LA estimated from unfiltered and filtered point clouds\n"
     ]
    },
    {
     "data": {
      "text/plain": [
       "0    8.733\n",
       "dtype: float64"
      ]
     },
     "execution_count": 40,
     "metadata": {},
     "output_type": "execute_result"
    }
   ],
   "source": [
    "print(\"Difference between LA estimated from unfiltered and filtered point clouds\")\n",
    "(real_la_tri_df[\"la_tri\"] - real_la_tri_df[\"la_tri_mls\"]).round(decimals=3)"
   ]
  },
  {
   "cell_type": "markdown",
   "id": "f2131595",
   "metadata": {},
   "source": [
    "#### Geometric features"
   ]
  },
  {
   "cell_type": "code",
   "execution_count": 41,
   "id": "bfab2bb7",
   "metadata": {},
   "outputs": [],
   "source": [
    "gf_dir = Path(metric_folder) / \"geomfeats_real\"\n",
    "# pre mls\n",
    "vs1 = gf_dir / \"2022-05-11_TLS_tree4_t_filtered_classified_leaves_1_leaves_gf.pkl\"\n",
    "vs5 = gf_dir / \"2022-05-11_TLS_tree4_t_filtered_classified_leaves_5_leaves_gf.pkl\"\n",
    "\n",
    "# post mls\n",
    "vs1_mls = gf_dir / \"2022-05-11_TLS_tree4_t_filtered_classified_leaves_1_leaves_gf_mls.pkl\"\n",
    "vs5_mls = gf_dir / \"2022-05-11_TLS_tree4_t_filtered_classified_leaves_5_leaves_gf_mls.pkl\"\n",
    "\n",
    "# wood\n",
    "vs1_wood = gf_dir / \"2022-05-11_TLS_tree4_t_filtered_classified_1_wood_gf.pkl\"\n",
    "vs5_wood = gf_dir / \"2022-05-11_TLS_tree4_t_filtered_classified_5_wood_gf.pkl\"\n",
    "\n",
    "real_vs1_df = pd.read_pickle(vs1)\n",
    "real_vs5_df = pd.read_pickle(vs5)\n",
    "real_vs1_mls_df = pd.read_pickle(vs1_mls)\n",
    "real_vs5_mls_df = pd.read_pickle(vs5_mls)\n",
    "real_wood_vs1_df =  pd.read_pickle(vs1_wood)\n",
    "real_wood_vs5_df =  pd.read_pickle(vs5_wood)"
   ]
  },
  {
   "cell_type": "code",
   "execution_count": 42,
   "id": "88c7133f",
   "metadata": {},
   "outputs": [
    {
     "name": "stdout",
     "output_type": "stream",
     "text": [
      "Voxel size = 1 cm, Planarity\n",
      "\n",
      "Before filtering\n",
      "NoData values in real data: 174 = 0.03%\n",
      "After filtering\n",
      "NoData values in real data: 150 = 0.02%\n",
      "Voxel size = 5 cm, Planarity\n",
      "\n",
      "Before filtering\n",
      "NoData values in real data: 5 = 0.00%\n",
      "After filtering\n",
      "NoData values in real data: 7 = 0.00%\n"
     ]
    }
   ],
   "source": [
    "print(\"Voxel size = 1 cm, Planarity\\n\")\n",
    "print(\"Before filtering\")\n",
    "print(f'NoData values in real data: {real_vs1_df[\"planarity\"].isna().sum().sum()} \\\n",
    "= {(real_vs1_df[\"planarity\"].isna().sum().sum() / len(real_vs1_df.index)*100):.2f}%')\n",
    "print(\"After filtering\")\n",
    "print(f'NoData values in real data: {real_vs1_mls_df[\"planarity\"].isna().sum().sum()} \\\n",
    "= {(real_vs1_mls_df[\"planarity\"].isna().sum().sum() / len(real_vs1_mls_df.index)*100):.2f}%')\n",
    "\n",
    "print(\"Voxel size = 5 cm, Planarity\\n\")\n",
    "print(\"Before filtering\")\n",
    "print(f'NoData values in real data: {real_vs5_df[\"planarity\"].isna().sum().sum()} \\\n",
    "= {(real_vs5_df[\"planarity\"].isna().sum().sum() / len(real_vs5_df.index)*100):.2f}%')\n",
    "print(\"After filtering\")\n",
    "print(f'NoData values in real data: {real_vs5_mls_df[\"planarity\"].isna().sum().sum()} \\\n",
    "= {(real_vs5_mls_df[\"planarity\"].isna().sum().sum() / len(real_vs5_mls_df.index)*100):.2f}%')"
   ]
  },
  {
   "cell_type": "markdown",
   "id": "47b92d3c",
   "metadata": {},
   "source": [
    "#### Height metrics"
   ]
  },
  {
   "cell_type": "code",
   "execution_count": 43,
   "id": "fe2e78a8",
   "metadata": {},
   "outputs": [],
   "source": [
    "tls_hm_real = \"2022-05-11_TLS_tree4_t_filtered_classified_height_metrics.pkl\"\n",
    "tls_hm_real_mls = \"2022-05-11_TLS_tree4_t_filtered_classified_height_metrics_mls.pkl\"\n",
    "hm_df_real = pd.read_pickle(Path(metric_folder) / tls_hm_real)\n",
    "hm_df_real_mls = pd.read_pickle(Path(metric_folder) / tls_hm_real_mls)"
   ]
  },
  {
   "cell_type": "code",
   "execution_count": 44,
   "id": "8fd4b3fd",
   "metadata": {},
   "outputs": [
    {
     "data": {
      "text/html": [
       "<div>\n",
       "<style scoped>\n",
       "    .dataframe tbody tr th:only-of-type {\n",
       "        vertical-align: middle;\n",
       "    }\n",
       "\n",
       "    .dataframe tbody tr th {\n",
       "        vertical-align: top;\n",
       "    }\n",
       "\n",
       "    .dataframe thead th {\n",
       "        text-align: right;\n",
       "    }\n",
       "</style>\n",
       "<table border=\"1\" class=\"dataframe\">\n",
       "  <thead>\n",
       "    <tr style=\"text-align: right;\">\n",
       "      <th></th>\n",
       "      <th>no_points</th>\n",
       "      <th>no_wood_points</th>\n",
       "      <th>no_leaf_points</th>\n",
       "      <th>Mean</th>\n",
       "      <th>Max</th>\n",
       "      <th>Std</th>\n",
       "      <th>D1</th>\n",
       "      <th>D2</th>\n",
       "      <th>D3</th>\n",
       "      <th>D4</th>\n",
       "      <th>D5</th>\n",
       "      <th>D6</th>\n",
       "      <th>D7</th>\n",
       "      <th>D8</th>\n",
       "      <th>D9</th>\n",
       "    </tr>\n",
       "  </thead>\n",
       "  <tbody>\n",
       "    <tr>\n",
       "      <th>2022-05-11_TLS_tree4</th>\n",
       "      <td>1003146</td>\n",
       "      <td>351440</td>\n",
       "      <td>651706</td>\n",
       "      <td>2.151702</td>\n",
       "      <td>3.27375</td>\n",
       "      <td>0.661386</td>\n",
       "      <td>1.40875</td>\n",
       "      <td>1.542</td>\n",
       "      <td>1.68975</td>\n",
       "      <td>1.838</td>\n",
       "      <td>2.059</td>\n",
       "      <td>2.34625</td>\n",
       "      <td>2.6555</td>\n",
       "      <td>2.9195</td>\n",
       "      <td>3.086</td>\n",
       "    </tr>\n",
       "  </tbody>\n",
       "</table>\n",
       "</div>"
      ],
      "text/plain": [
       "                     no_points no_wood_points no_leaf_points      Mean  \\\n",
       "2022-05-11_TLS_tree4   1003146         351440         651706  2.151702   \n",
       "\n",
       "                          Max       Std       D1     D2       D3     D4  \\\n",
       "2022-05-11_TLS_tree4  3.27375  0.661386  1.40875  1.542  1.68975  1.838   \n",
       "\n",
       "                         D5       D6      D7      D8     D9  \n",
       "2022-05-11_TLS_tree4  2.059  2.34625  2.6555  2.9195  3.086  "
      ]
     },
     "execution_count": 44,
     "metadata": {},
     "output_type": "execute_result"
    }
   ],
   "source": [
    "hm_df_real"
   ]
  },
  {
   "cell_type": "code",
   "execution_count": 45,
   "id": "16a71c7d",
   "metadata": {},
   "outputs": [
    {
     "data": {
      "text/html": [
       "<div>\n",
       "<style scoped>\n",
       "    .dataframe tbody tr th:only-of-type {\n",
       "        vertical-align: middle;\n",
       "    }\n",
       "\n",
       "    .dataframe tbody tr th {\n",
       "        vertical-align: top;\n",
       "    }\n",
       "\n",
       "    .dataframe thead th {\n",
       "        text-align: right;\n",
       "    }\n",
       "</style>\n",
       "<table border=\"1\" class=\"dataframe\">\n",
       "  <thead>\n",
       "    <tr style=\"text-align: right;\">\n",
       "      <th></th>\n",
       "      <th>no_points</th>\n",
       "      <th>no_wood_points</th>\n",
       "      <th>no_leaf_points</th>\n",
       "      <th>Mean</th>\n",
       "      <th>Max</th>\n",
       "      <th>Std</th>\n",
       "      <th>D1</th>\n",
       "      <th>D2</th>\n",
       "      <th>D3</th>\n",
       "      <th>D4</th>\n",
       "      <th>D5</th>\n",
       "      <th>D6</th>\n",
       "      <th>D7</th>\n",
       "      <th>D8</th>\n",
       "      <th>D9</th>\n",
       "    </tr>\n",
       "  </thead>\n",
       "  <tbody>\n",
       "    <tr>\n",
       "      <th>2022-05-11_TLS_tree4</th>\n",
       "      <td>1003146</td>\n",
       "      <td>351440</td>\n",
       "      <td>651706</td>\n",
       "      <td>2.151698</td>\n",
       "      <td>3.26578</td>\n",
       "      <td>0.661303</td>\n",
       "      <td>1.41158</td>\n",
       "      <td>1.54148</td>\n",
       "      <td>1.68928</td>\n",
       "      <td>1.83628</td>\n",
       "      <td>2.06218</td>\n",
       "      <td>2.34628</td>\n",
       "      <td>2.65608</td>\n",
       "      <td>2.91788</td>\n",
       "      <td>3.08878</td>\n",
       "    </tr>\n",
       "  </tbody>\n",
       "</table>\n",
       "</div>"
      ],
      "text/plain": [
       "                     no_points no_wood_points no_leaf_points      Mean  \\\n",
       "2022-05-11_TLS_tree4   1003146         351440         651706  2.151698   \n",
       "\n",
       "                          Max       Std       D1       D2       D3       D4  \\\n",
       "2022-05-11_TLS_tree4  3.26578  0.661303  1.41158  1.54148  1.68928  1.83628   \n",
       "\n",
       "                           D5       D6       D7       D8       D9  \n",
       "2022-05-11_TLS_tree4  2.06218  2.34628  2.65608  2.91788  3.08878  "
      ]
     },
     "execution_count": 45,
     "metadata": {},
     "output_type": "execute_result"
    }
   ],
   "source": [
    "hm_df_real_mls"
   ]
  },
  {
   "cell_type": "code",
   "execution_count": 46,
   "id": "6d3c0793",
   "metadata": {},
   "outputs": [
    {
     "data": {
      "text/html": [
       "<div>\n",
       "<style scoped>\n",
       "    .dataframe tbody tr th:only-of-type {\n",
       "        vertical-align: middle;\n",
       "    }\n",
       "\n",
       "    .dataframe tbody tr th {\n",
       "        vertical-align: top;\n",
       "    }\n",
       "\n",
       "    .dataframe thead th {\n",
       "        text-align: right;\n",
       "    }\n",
       "</style>\n",
       "<table border=\"1\" class=\"dataframe\">\n",
       "  <thead>\n",
       "    <tr style=\"text-align: right;\">\n",
       "      <th></th>\n",
       "      <th>no_points</th>\n",
       "      <th>no_wood_points</th>\n",
       "      <th>no_leaf_points</th>\n",
       "      <th>Mean</th>\n",
       "      <th>Max</th>\n",
       "      <th>Std</th>\n",
       "      <th>D1</th>\n",
       "      <th>D2</th>\n",
       "      <th>D3</th>\n",
       "      <th>D4</th>\n",
       "      <th>D5</th>\n",
       "      <th>D6</th>\n",
       "      <th>D7</th>\n",
       "      <th>D8</th>\n",
       "      <th>D9</th>\n",
       "    </tr>\n",
       "  </thead>\n",
       "  <tbody>\n",
       "    <tr>\n",
       "      <th>2022-05-11_TLS_tree4</th>\n",
       "      <td>0</td>\n",
       "      <td>0</td>\n",
       "      <td>0</td>\n",
       "      <td>0.000003</td>\n",
       "      <td>0.00797</td>\n",
       "      <td>0.000083</td>\n",
       "      <td>-0.00283</td>\n",
       "      <td>0.00052</td>\n",
       "      <td>0.00047</td>\n",
       "      <td>0.00172</td>\n",
       "      <td>-0.00318</td>\n",
       "      <td>-0.00003</td>\n",
       "      <td>-0.00058</td>\n",
       "      <td>0.00162</td>\n",
       "      <td>-0.00278</td>\n",
       "    </tr>\n",
       "  </tbody>\n",
       "</table>\n",
       "</div>"
      ],
      "text/plain": [
       "                     no_points no_wood_points no_leaf_points      Mean  \\\n",
       "2022-05-11_TLS_tree4         0              0              0  0.000003   \n",
       "\n",
       "                          Max       Std       D1       D2       D3       D4  \\\n",
       "2022-05-11_TLS_tree4  0.00797  0.000083 -0.00283  0.00052  0.00047  0.00172   \n",
       "\n",
       "                           D5       D6       D7       D8       D9  \n",
       "2022-05-11_TLS_tree4 -0.00318 -0.00003 -0.00058  0.00162 -0.00278  "
      ]
     },
     "execution_count": 46,
     "metadata": {},
     "output_type": "execute_result"
    }
   ],
   "source": [
    "hm_df_real - hm_df_real_mls"
   ]
  },
  {
   "cell_type": "code",
   "execution_count": null,
   "id": "14614521",
   "metadata": {},
   "outputs": [],
   "source": []
  }
 ],
 "metadata": {
  "kernelspec": {
   "display_name": "Python 3 (ipykernel)",
   "language": "python",
   "name": "python3"
  },
  "language_info": {
   "codemirror_mode": {
    "name": "ipython",
    "version": 3
   },
   "file_extension": ".py",
   "mimetype": "text/x-python",
   "name": "python",
   "nbconvert_exporter": "python",
   "pygments_lexer": "ipython3",
   "version": "3.9.16"
  }
 },
 "nbformat": 4,
 "nbformat_minor": 5
}
