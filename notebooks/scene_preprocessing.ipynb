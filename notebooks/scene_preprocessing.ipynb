{
 "cells": [
  {
   "cell_type": "markdown",
   "id": "de97c87e",
   "metadata": {},
   "source": [
    "Hannah Weiser <br>\n",
    "January 2023 <br>\n",
    "Master's thesis\n",
    "***\n",
    "\n",
    "# Additional processing steps for HELIOS++ scenes\n",
    "\n",
    "\n",
    "## Add classification (using material files)"
   ]
  },
  {
   "cell_type": "code",
   "execution_count": null,
   "id": "c090da4e",
   "metadata": {},
   "outputs": [],
   "source": [
    "# imports\n",
    "from pathlib import Path\n",
    "import shutil"
   ]
  },
  {
   "cell_type": "code",
   "execution_count": null,
   "id": "568df5d1",
   "metadata": {},
   "outputs": [],
   "source": [
    "def add_mtl_file(path_obj, path_mtl, mtl_idx):\n",
    "    obj_dir = Path(path_obj).parent\n",
    "    \n",
    "    try:\n",
    "        rel_path_mtl = Path(path_mtl).absolute().relative_to(obj_dir)\n",
    "    except:\n",
    "        # copy over\n",
    "        new_path_mtl = Path(obj_dir) / Path(path_mtl).name\n",
    "        shutil.copy(path_mtl, new_path_mtl)\n",
    "        rel_path_mtl = new_path_mtl.relative_to(obj_dir)\n",
    "    \n",
    "    # get material names from mtl file\n",
    "    material_names = []\n",
    "    with open(path_mtl, \"r\") as mtl_file:\n",
    "        for line in mtl_file:\n",
    "            if line.startswith(\"newmtl\"):\n",
    "                material_names.append(line.strip().split(\" \")[1])\n",
    "    \n",
    "    lines = []\n",
    "    with open(path_obj, \"r\") as f:\n",
    "        content = f.read()\n",
    "        if \"mtllib\" in content and \"usemtl\" in content:\n",
    "            print(f\"Aborting. File {path_obj} already associated with a material library.\")\n",
    "        else:\n",
    "            f.seek(0)\n",
    "            for line in f:\n",
    "                if line.startswith(\"mtllib\"):\n",
    "                    # leave out already defined mtllib (if no usemtl present)\n",
    "                    pass\n",
    "                if line.startswith(\"f\"):\n",
    "                    lines.append(f\"mtllib {rel_path_mtl}\\n\")\n",
    "                    lines.append(f\"usemtl {material_names[mtl_idx]}\\n\")\n",
    "                    lines.append(line)\n",
    "                    break\n",
    "                lines.append(line)                \n",
    "            remaining_lines = f.readlines()\n",
    "            lines += remaining_lines\n",
    "            with open(path_obj, \"w\") as outf:\n",
    "                outf.writelines(lines)\n",
    "                print(f\"Written material {material_names[mtl_idx]} to file {path_obj}\")"
   ]
  },
  {
   "cell_type": "code",
   "execution_count": null,
   "id": "daad7b15",
   "metadata": {},
   "outputs": [],
   "source": [
    "helios_root = \"H:/helios\"\n",
    "obj_paths = list((Path(helios_root) / \"data/sceneparts\").glob(\"tree*/*.obj\"))\n",
    "mtl_path = \"../data/leafwood.mtl\""
   ]
  },
  {
   "cell_type": "code",
   "execution_count": null,
   "id": "fe4ae7a9",
   "metadata": {},
   "outputs": [],
   "source": [
    "for obj_file in obj_paths:\n",
    "    if \"leaves\" in obj_file.stem or \"Leaves\" in obj_file.stem:\n",
    "        add_mtl_file(obj_file, mtl_path, 0)\n",
    "    elif \"tree\" in obj_file.stem:\n",
    "        add_mtl_file(obj_file, mtl_path, 1)\n",
    "    else:\n",
    "        print(f\"Skipping {obj_file.stem}.\")"
   ]
  },
  {
   "cell_type": "code",
   "execution_count": null,
   "id": "eb1fa27d",
   "metadata": {},
   "outputs": [],
   "source": []
  }
 ],
 "metadata": {
  "kernelspec": {
   "display_name": "Python 3 (ipykernel)",
   "language": "python",
   "name": "python3"
  },
  "language_info": {
   "codemirror_mode": {
    "name": "ipython",
    "version": 3
   },
   "file_extension": ".py",
   "mimetype": "text/x-python",
   "name": "python",
   "nbconvert_exporter": "python",
   "pygments_lexer": "ipython3",
   "version": "3.9.15"
  }
 },
 "nbformat": 4,
 "nbformat_minor": 5
}
